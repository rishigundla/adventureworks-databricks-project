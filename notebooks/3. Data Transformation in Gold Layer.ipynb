{
 "cells": [
  {
   "cell_type": "code",
   "execution_count": 0,
   "metadata": {
    "application/vnd.databricks.v1+cell": {
     "cellMetadata": {
      "byteLimit": 2048000,
      "rowLimit": 10000
     },
     "inputWidgets": {},
     "nuid": "59a81d96-ef8a-44af-b999-c624845e267d",
     "showTitle": false,
     "tableResultSettingsMap": {},
     "title": ""
    }
   },
   "outputs": [],
   "source": [
    "from pyspark.sql.functions import *\n",
    "from pyspark.sql.types import *"
   ]
  },
  {
   "cell_type": "code",
   "execution_count": 0,
   "metadata": {
    "application/vnd.databricks.v1+cell": {
     "cellMetadata": {
      "byteLimit": 2048000,
      "implicitDf": true,
      "rowLimit": 10000
     },
     "inputWidgets": {},
     "nuid": "f13a9645-1783-4823-82ce-ba01b876747e",
     "showTitle": false,
     "tableResultSettingsMap": {},
     "title": ""
    }
   },
   "outputs": [
    {
     "output_type": "display_data",
     "data": {
      "application/vnd.databricks.empty-table+json": {
       "directive_name": "NoDirective"
      }
     },
     "metadata": {},
     "output_type": "display_data"
    }
   ],
   "source": [
    "%sql\n",
    "USE CATALOG adventureworks;\n",
    "USE SCHEMA gold;"
   ]
  },
  {
   "cell_type": "code",
   "execution_count": 0,
   "metadata": {
    "application/vnd.databricks.v1+cell": {
     "cellMetadata": {
      "byteLimit": 2048000,
      "rowLimit": 10000
     },
     "inputWidgets": {},
     "nuid": "3c0d08c6-a1d1-401b-9de8-45613d967a82",
     "showTitle": false,
     "tableResultSettingsMap": {},
     "title": ""
    }
   },
   "outputs": [],
   "source": [
    "df_product = spark.table(\"adventureworks.silver.silver_product\")\n",
    "df_region = spark.table(\"adventureworks.silver.silver_region\")\n",
    "df_reseller = spark.table(\"adventureworks.silver.silver_reseller\")\n",
    "df_sales = spark.table(\"adventureworks.silver.silver_sales\")\n",
    "df_salesperson = spark.table(\"adventureworks.silver.silver_salesperson\")\n",
    "df_salespersonregion = spark.table(\"adventureworks.silver.silver_salespersonregion\")\n",
    "df_targets = spark.table(\"adventureworks.silver.silver_targets\")"
   ]
  },
  {
   "cell_type": "markdown",
   "metadata": {
    "application/vnd.databricks.v1+cell": {
     "cellMetadata": {
      "byteLimit": 2048000,
      "rowLimit": 10000
     },
     "inputWidgets": {},
     "nuid": "57ff491a-5acf-4144-931f-55826d17699b",
     "showTitle": false,
     "tableResultSettingsMap": {},
     "title": ""
    }
   },
   "source": [
    "### Transforming silver_product\n"
   ]
  },
  {
   "cell_type": "code",
   "execution_count": 0,
   "metadata": {
    "application/vnd.databricks.v1+cell": {
     "cellMetadata": {
      "byteLimit": 2048000,
      "rowLimit": 10000
     },
     "inputWidgets": {},
     "nuid": "e5002592-679e-4bdc-ab37-d0e18fba1155",
     "showTitle": false,
     "tableResultSettingsMap": {},
     "title": ""
    }
   },
   "outputs": [
    {
     "output_type": "display_data",
     "data": {
      "text/html": [
       "<style scoped>\n",
       "  .table-result-container {\n",
       "    max-height: 300px;\n",
       "    overflow: auto;\n",
       "  }\n",
       "  table, th, td {\n",
       "    border: 1px solid black;\n",
       "    border-collapse: collapse;\n",
       "  }\n",
       "  th, td {\n",
       "    padding: 5px;\n",
       "  }\n",
       "  th {\n",
       "    text-align: left;\n",
       "  }\n",
       "</style><div class='table-result-container'><table class='table-result'><thead style='background-color: white'><tr><th>product_key</th><th>product</th><th>standard_cost</th><th>color</th><th>subcategory</th><th>category</th></tr></thead><tbody><tr><td>210</td><td>HL Road Frame - Black, 58</td><td>868.63</td><td>Black</td><td>Road Frames</td><td>Components</td></tr><tr><td>215</td><td>Sport-100 Helmet, Black</td><td>12.03</td><td>Black</td><td>Helmets</td><td>Accessories</td></tr><tr><td>216</td><td>Sport-100 Helmet, Black</td><td>13.88</td><td>Black</td><td>Helmets</td><td>Accessories</td></tr><tr><td>217</td><td>Sport-100 Helmet, Black</td><td>13.09</td><td>Black</td><td>Helmets</td><td>Accessories</td></tr><tr><td>253</td><td>LL Road Frame - Black, 58</td><td>176.2</td><td>Black</td><td>Road Frames</td><td>Components</td></tr><tr><td>254</td><td>LL Road Frame - Black, 58</td><td>170.14</td><td>Black</td><td>Road Frames</td><td>Components</td></tr><tr><td>255</td><td>LL Road Frame - Black, 58</td><td>204.63</td><td>Black</td><td>Road Frames</td><td>Components</td></tr><tr><td>256</td><td>LL Road Frame - Black, 60</td><td>176.2</td><td>Black</td><td>Road Frames</td><td>Components</td></tr><tr><td>257</td><td>LL Road Frame - Black, 60</td><td>170.14</td><td>Black</td><td>Road Frames</td><td>Components</td></tr><tr><td>258</td><td>LL Road Frame - Black, 60</td><td>204.63</td><td>Black</td><td>Road Frames</td><td>Components</td></tr><tr><td>259</td><td>LL Road Frame - Black, 62</td><td>176.2</td><td>Black</td><td>Road Frames</td><td>Components</td></tr><tr><td>260</td><td>LL Road Frame - Black, 62</td><td>170.14</td><td>Black</td><td>Road Frames</td><td>Components</td></tr><tr><td>261</td><td>LL Road Frame - Black, 62</td><td>204.63</td><td>Black</td><td>Road Frames</td><td>Components</td></tr><tr><td>279</td><td>LL Road Frame - Black, 44</td><td>176.2</td><td>Black</td><td>Road Frames</td><td>Components</td></tr><tr><td>280</td><td>LL Road Frame - Black, 44</td><td>170.14</td><td>Black</td><td>Road Frames</td><td>Components</td></tr><tr><td>281</td><td>LL Road Frame - Black, 44</td><td>204.63</td><td>Black</td><td>Road Frames</td><td>Components</td></tr><tr><td>282</td><td>LL Road Frame - Black, 48</td><td>176.2</td><td>Black</td><td>Road Frames</td><td>Components</td></tr><tr><td>283</td><td>LL Road Frame - Black, 48</td><td>170.14</td><td>Black</td><td>Road Frames</td><td>Components</td></tr><tr><td>284</td><td>LL Road Frame - Black, 48</td><td>204.63</td><td>Black</td><td>Road Frames</td><td>Components</td></tr><tr><td>285</td><td>LL Road Frame - Black, 52</td><td>176.2</td><td>Black</td><td>Road Frames</td><td>Components</td></tr><tr><td>286</td><td>LL Road Frame - Black, 52</td><td>170.14</td><td>Black</td><td>Road Frames</td><td>Components</td></tr><tr><td>287</td><td>LL Road Frame - Black, 52</td><td>204.63</td><td>Black</td><td>Road Frames</td><td>Components</td></tr><tr><td>296</td><td>HL Mountain Frame - Black, 42</td><td>617.03</td><td>Black</td><td>Mountain Frames</td><td>Components</td></tr><tr><td>297</td><td>HL Mountain Frame - Black, 42</td><td>653.7</td><td>Black</td><td>Mountain Frames</td><td>Components</td></tr><tr><td>298</td><td>HL Mountain Frame - Black, 42</td><td>739.04</td><td>Black</td><td>Mountain Frames</td><td>Components</td></tr><tr><td>299</td><td>HL Mountain Frame - Black, 44</td><td>699.09</td><td>Black</td><td>Mountain Frames</td><td>Components</td></tr><tr><td>300</td><td>HL Mountain Frame - Black, 48</td><td>699.09</td><td>Black</td><td>Mountain Frames</td><td>Components</td></tr><tr><td>301</td><td>HL Mountain Frame - Black, 46</td><td>617.03</td><td>Black</td><td>Mountain Frames</td><td>Components</td></tr><tr><td>302</td><td>HL Mountain Frame - Black, 46</td><td>653.7</td><td>Black</td><td>Mountain Frames</td><td>Components</td></tr><tr><td>303</td><td>HL Mountain Frame - Black, 46</td><td>739.04</td><td>Black</td><td>Mountain Frames</td><td>Components</td></tr><tr><td>304</td><td>HL Mountain Frame - Black, 38</td><td>617.03</td><td>Black</td><td>Mountain Frames</td><td>Components</td></tr><tr><td>305</td><td>HL Mountain Frame - Black, 38</td><td>653.7</td><td>Black</td><td>Mountain Frames</td><td>Components</td></tr><tr><td>306</td><td>HL Mountain Frame - Black, 38</td><td>739.04</td><td>Black</td><td>Mountain Frames</td><td>Components</td></tr><tr><td>332</td><td>Road-650 Black, 58</td><td>413.15</td><td>Black</td><td>Road Bikes</td><td>Bikes</td></tr><tr><td>333</td><td>Road-650 Black, 58</td><td>486.71</td><td>Black</td><td>Road Bikes</td><td>Bikes</td></tr><tr><td>334</td><td>Road-650 Black, 60</td><td>413.15</td><td>Black</td><td>Road Bikes</td><td>Bikes</td></tr><tr><td>335</td><td>Road-650 Black, 60</td><td>486.71</td><td>Black</td><td>Road Bikes</td><td>Bikes</td></tr><tr><td>336</td><td>Road-650 Black, 62</td><td>413.15</td><td>Black</td><td>Road Bikes</td><td>Bikes</td></tr><tr><td>337</td><td>Road-650 Black, 62</td><td>486.71</td><td>Black</td><td>Road Bikes</td><td>Bikes</td></tr><tr><td>338</td><td>Road-650 Black, 44</td><td>413.15</td><td>Black</td><td>Road Bikes</td><td>Bikes</td></tr><tr><td>339</td><td>Road-650 Black, 44</td><td>486.71</td><td>Black</td><td>Road Bikes</td><td>Bikes</td></tr><tr><td>340</td><td>Road-650 Black, 48</td><td>413.15</td><td>Black</td><td>Road Bikes</td><td>Bikes</td></tr><tr><td>341</td><td>Road-650 Black, 48</td><td>486.71</td><td>Black</td><td>Road Bikes</td><td>Bikes</td></tr><tr><td>342</td><td>Road-650 Black, 52</td><td>413.15</td><td>Black</td><td>Road Bikes</td><td>Bikes</td></tr><tr><td>343</td><td>Road-650 Black, 52</td><td>486.71</td><td>Black</td><td>Road Bikes</td><td>Bikes</td></tr><tr><td>348</td><td>Mountain-100 Black, 38</td><td>1898.09</td><td>Black</td><td>Mountain Bikes</td><td>Bikes</td></tr><tr><td>349</td><td>Mountain-100 Black, 42</td><td>1898.09</td><td>Black</td><td>Mountain Bikes</td><td>Bikes</td></tr><tr><td>350</td><td>Mountain-100 Black, 44</td><td>1898.09</td><td>Black</td><td>Mountain Bikes</td><td>Bikes</td></tr><tr><td>351</td><td>Mountain-100 Black, 48</td><td>1898.09</td><td>Black</td><td>Mountain Bikes</td><td>Bikes</td></tr><tr><td>358</td><td>Mountain-200 Black, 38</td><td>1105.81</td><td>Black</td><td>Mountain Bikes</td><td>Bikes</td></tr><tr><td>359</td><td>Mountain-200 Black, 38</td><td>1251.98</td><td>Black</td><td>Mountain Bikes</td><td>Bikes</td></tr><tr><td>360</td><td>Mountain-200 Black, 42</td><td>1105.81</td><td>Black</td><td>Mountain Bikes</td><td>Bikes</td></tr><tr><td>361</td><td>Mountain-200 Black, 42</td><td>1251.98</td><td>Black</td><td>Mountain Bikes</td><td>Bikes</td></tr><tr><td>362</td><td>Mountain-200 Black, 46</td><td>1105.81</td><td>Black</td><td>Mountain Bikes</td><td>Bikes</td></tr><tr><td>363</td><td>Mountain-200 Black, 46</td><td>1251.98</td><td>Black</td><td>Mountain Bikes</td><td>Bikes</td></tr><tr><td>364</td><td>Mountain-300 Black, 38</td><td>598.44</td><td>Black</td><td>Mountain Bikes</td><td>Bikes</td></tr><tr><td>365</td><td>Mountain-300 Black, 40</td><td>598.44</td><td>Black</td><td>Mountain Bikes</td><td>Bikes</td></tr><tr><td>366</td><td>Mountain-300 Black, 44</td><td>598.44</td><td>Black</td><td>Mountain Bikes</td><td>Bikes</td></tr><tr><td>367</td><td>Mountain-300 Black, 48</td><td>598.44</td><td>Black</td><td>Mountain Bikes</td><td>Bikes</td></tr><tr><td>373</td><td>Road-250 Black, 44</td><td>1320.68</td><td>Black</td><td>Road Bikes</td><td>Bikes</td></tr><tr><td>374</td><td>Road-250 Black, 44</td><td>1554.95</td><td>Black</td><td>Road Bikes</td><td>Bikes</td></tr><tr><td>375</td><td>Road-250 Black, 48</td><td>1320.68</td><td>Black</td><td>Road Bikes</td><td>Bikes</td></tr><tr><td>376</td><td>Road-250 Black, 48</td><td>1554.95</td><td>Black</td><td>Road Bikes</td><td>Bikes</td></tr><tr><td>377</td><td>Road-250 Black, 52</td><td>1320.68</td><td>Black</td><td>Road Bikes</td><td>Bikes</td></tr><tr><td>378</td><td>Road-250 Black, 52</td><td>1554.95</td><td>Black</td><td>Road Bikes</td><td>Bikes</td></tr><tr><td>379</td><td>Road-250 Black, 58</td><td>1320.68</td><td>Black</td><td>Road Bikes</td><td>Bikes</td></tr><tr><td>380</td><td>Road-250 Black, 58</td><td>1554.95</td><td>Black</td><td>Road Bikes</td><td>Bikes</td></tr><tr><td>409</td><td>ML Mountain Frame - Black, 38</td><td>185.82</td><td>Black</td><td>Mountain Frames</td><td>Components</td></tr><tr><td>410</td><td>LL Mountain Front Wheel</td><td>26.97</td><td>Black</td><td>Wheels</td><td>Components</td></tr><tr><td>411</td><td>ML Mountain Front Wheel</td><td>92.81</td><td>Black</td><td>Wheels</td><td>Components</td></tr><tr><td>412</td><td>HL Mountain Front Wheel</td><td>133.3</td><td>Black</td><td>Wheels</td><td>Components</td></tr><tr><td>413</td><td>LL Road Front Wheel</td><td>37.99</td><td>Black</td><td>Wheels</td><td>Components</td></tr><tr><td>414</td><td>ML Road Front Wheel</td><td>110.28</td><td>Black</td><td>Wheels</td><td>Components</td></tr><tr><td>415</td><td>HL Road Front Wheel</td><td>146.55</td><td>Black</td><td>Wheels</td><td>Components</td></tr><tr><td>416</td><td>Touring Front Wheel</td><td>96.8</td><td>Black</td><td>Wheels</td><td>Components</td></tr><tr><td>419</td><td>LL Mountain Rear Wheel</td><td>38.96</td><td>Black</td><td>Wheels</td><td>Components</td></tr><tr><td>420</td><td>ML Mountain Rear Wheel</td><td>104.8</td><td>Black</td><td>Wheels</td><td>Components</td></tr><tr><td>421</td><td>HL Mountain Rear Wheel</td><td>145.28</td><td>Black</td><td>Wheels</td><td>Components</td></tr><tr><td>422</td><td>LL Road Rear Wheel</td><td>49.98</td><td>Black</td><td>Wheels</td><td>Components</td></tr><tr><td>423</td><td>ML Road Rear Wheel</td><td>122.27</td><td>Black</td><td>Wheels</td><td>Components</td></tr><tr><td>424</td><td>HL Road Rear Wheel</td><td>158.53</td><td>Black</td><td>Wheels</td><td>Components</td></tr><tr><td>425</td><td>Touring Rear Wheel</td><td>108.78</td><td>Black</td><td>Wheels</td><td>Components</td></tr><tr><td>426</td><td>ML Mountain Frame - Black, 40</td><td>185.82</td><td>Black</td><td>Mountain Frames</td><td>Components</td></tr><tr><td>427</td><td>ML Mountain Frame - Black, 44</td><td>185.82</td><td>Black</td><td>Mountain Frames</td><td>Components</td></tr><tr><td>428</td><td>ML Mountain Frame - Black, 48</td><td>185.82</td><td>Black</td><td>Mountain Frames</td><td>Components</td></tr><tr><td>437</td><td>HL Road Frame - Black, 62</td><td>722.26</td><td>Black</td><td>Road Frames</td><td>Components</td></tr><tr><td>438</td><td>HL Road Frame - Black, 62</td><td>868.63</td><td>Black</td><td>Road Frames</td><td>Components</td></tr><tr><td>439</td><td>HL Road Frame - Black, 44</td><td>868.63</td><td>Black</td><td>Road Frames</td><td>Components</td></tr><tr><td>440</td><td>HL Road Frame - Black, 44</td><td>868.63</td><td>Black</td><td>Road Frames</td><td>Components</td></tr><tr><td>441</td><td>HL Road Frame - Black, 48</td><td>722.26</td><td>Black</td><td>Road Frames</td><td>Components</td></tr><tr><td>442</td><td>HL Road Frame - Black, 48</td><td>868.63</td><td>Black</td><td>Road Frames</td><td>Components</td></tr><tr><td>443</td><td>HL Road Frame - Black, 52</td><td>722.26</td><td>Black</td><td>Road Frames</td><td>Components</td></tr><tr><td>444</td><td>HL Road Frame - Black, 52</td><td>868.63</td><td>Black</td><td>Road Frames</td><td>Components</td></tr><tr><td>445</td><td>Men's Sports Shorts, S</td><td>24.75</td><td>Black</td><td>Shorts</td><td>Clothing</td></tr><tr><td>453</td><td>Men's Sports Shorts, M</td><td>24.75</td><td>Black</td><td>Shorts</td><td>Clothing</td></tr><tr><td>454</td><td>Men's Sports Shorts, L</td><td>24.75</td><td>Black</td><td>Shorts</td><td>Clothing</td></tr><tr><td>455</td><td>Men's Sports Shorts, XL</td><td>24.75</td><td>Black</td><td>Shorts</td><td>Clothing</td></tr><tr><td>456</td><td>Women's Tights, S</td><td>30.93</td><td>Black</td><td>Tights</td><td>Clothing</td></tr><tr><td>457</td><td>Women's Tights, M</td><td>30.93</td><td>Black</td><td>Tights</td><td>Clothing</td></tr><tr><td>458</td><td>Women's Tights, L</td><td>30.93</td><td>Black</td><td>Tights</td><td>Clothing</td></tr><tr><td>462</td><td>Half-Finger Gloves, S</td><td>9.71</td><td>Black</td><td>Gloves</td><td>Clothing</td></tr><tr><td>463</td><td>Half-Finger Gloves, S</td><td>9.16</td><td>Black</td><td>Gloves</td><td>Clothing</td></tr><tr><td>464</td><td>Half-Finger Gloves, M</td><td>9.71</td><td>Black</td><td>Gloves</td><td>Clothing</td></tr><tr><td>465</td><td>Half-Finger Gloves, M</td><td>9.16</td><td>Black</td><td>Gloves</td><td>Clothing</td></tr><tr><td>466</td><td>Half-Finger Gloves, L</td><td>9.71</td><td>Black</td><td>Gloves</td><td>Clothing</td></tr><tr><td>467</td><td>Half-Finger Gloves, L</td><td>9.16</td><td>Black</td><td>Gloves</td><td>Clothing</td></tr><tr><td>468</td><td>Full-Finger Gloves, S</td><td>15.67</td><td>Black</td><td>Gloves</td><td>Clothing</td></tr><tr><td>469</td><td>Full-Finger Gloves, M</td><td>15.67</td><td>Black</td><td>Gloves</td><td>Clothing</td></tr><tr><td>470</td><td>Full-Finger Gloves, L</td><td>15.67</td><td>Black</td><td>Gloves</td><td>Clothing</td></tr><tr><td>474</td><td>Women's Mountain Shorts, S</td><td>26.18</td><td>Black</td><td>Shorts</td><td>Clothing</td></tr><tr><td>475</td><td>Women's Mountain Shorts, M</td><td>26.18</td><td>Black</td><td>Shorts</td><td>Clothing</td></tr><tr><td>476</td><td>Women's Mountain Shorts, L</td><td>26.18</td><td>Black</td><td>Shorts</td><td>Clothing</td></tr><tr><td>531</td><td>LL Mountain Frame - Black, 42</td><td>136.79</td><td>Black</td><td>Mountain Frames</td><td>Components</td></tr><tr><td>532</td><td>LL Mountain Frame - Black, 44</td><td>136.79</td><td>Black</td><td>Mountain Frames</td><td>Components</td></tr><tr><td>533</td><td>LL Mountain Frame - Black, 48</td><td>136.79</td><td>Black</td><td>Mountain Frames</td><td>Components</td></tr><tr><td>534</td><td>LL Mountain Frame - Black, 52</td><td>136.79</td><td>Black</td><td>Mountain Frames</td><td>Components</td></tr><tr><td>550</td><td>LL Mountain Frame - Black, 40</td><td>136.79</td><td>Black</td><td>Mountain Frames</td><td>Components</td></tr><tr><td>556</td><td>LL Crankset</td><td>77.92</td><td>Black</td><td>Cranksets</td><td>Components</td></tr><tr><td>557</td><td>ML Crankset</td><td>113.88</td><td>Black</td><td>Cranksets</td><td>Components</td></tr><tr><td>558</td><td>HL Crankset</td><td>179.82</td><td>Black</td><td>Cranksets</td><td>Components</td></tr><tr><td>584</td><td>Road-750 Black, 58</td><td>343.65</td><td>Black</td><td>Road Bikes</td><td>Bikes</td></tr><tr><td>596</td><td>Mountain-500 Black, 40</td><td>294.58</td><td>Black</td><td>Mountain Bikes</td><td>Bikes</td></tr><tr><td>597</td><td>Mountain-500 Black, 42</td><td>294.58</td><td>Black</td><td>Mountain Bikes</td><td>Bikes</td></tr><tr><td>598</td><td>Mountain-500 Black, 44</td><td>294.58</td><td>Black</td><td>Mountain Bikes</td><td>Bikes</td></tr><tr><td>599</td><td>Mountain-500 Black, 48</td><td>294.58</td><td>Black</td><td>Mountain Bikes</td><td>Bikes</td></tr><tr><td>600</td><td>Mountain-500 Black, 52</td><td>294.58</td><td>Black</td><td>Mountain Bikes</td><td>Bikes</td></tr><tr><td>604</td><td>Road-750 Black, 44</td><td>343.65</td><td>Black</td><td>Road Bikes</td><td>Bikes</td></tr><tr><td>605</td><td>Road-750 Black, 48</td><td>343.65</td><td>Black</td><td>Road Bikes</td><td>Bikes</td></tr><tr><td>606</td><td>Road-750 Black, 52</td><td>343.65</td><td>Black</td><td>Road Bikes</td><td>Bikes</td></tr><tr><td>211</td><td>HL Road Frame - Red, 58</td><td>868.63</td><td>Red</td><td>Road Frames</td><td>Components</td></tr><tr><td>212</td><td>Sport-100 Helmet, Red</td><td>12.03</td><td>Red</td><td>Helmets</td><td>Accessories</td></tr><tr><td>213</td><td>Sport-100 Helmet, Red</td><td>13.88</td><td>Red</td><td>Helmets</td><td>Accessories</td></tr><tr><td>214</td><td>Sport-100 Helmet, Red</td><td>13.09</td><td>Red</td><td>Helmets</td><td>Accessories</td></tr><tr><td>220</td><td>Sport-100 Helmet, Blue</td><td>12.03</td><td>Blue</td><td>Helmets</td><td>Accessories</td></tr><tr><td>218</td><td>Mountain Bike Socks, M</td><td>3.4</td><td>White</td><td>Socks</td><td>Clothing</td></tr><tr><td>219</td><td>Mountain Bike Socks, L</td><td>3.4</td><td>White</td><td>Socks</td><td>Clothing</td></tr><tr><td>221</td><td>Sport-100 Helmet, Blue</td><td>13.88</td><td>Blue</td><td>Helmets</td><td>Accessories</td></tr><tr><td>222</td><td>Sport-100 Helmet, Blue</td><td>13.09</td><td>Blue</td><td>Helmets</td><td>Accessories</td></tr><tr><td>223</td><td>AWC Logo Cap</td><td>5.71</td><td>Multi</td><td>Caps</td><td>Clothing</td></tr><tr><td>224</td><td>AWC Logo Cap</td><td>5.23</td><td>Multi</td><td>Caps</td><td>Clothing</td></tr><tr><td>225</td><td>AWC Logo Cap</td><td>6.92</td><td>Multi</td><td>Caps</td><td>Clothing</td></tr><tr><td>226</td><td>Long-Sleeve Logo Jersey, S</td><td>31.72</td><td>Multi</td><td>Jerseys</td><td>Clothing</td></tr><tr><td>227</td><td>Long-Sleeve Logo Jersey, S</td><td>29.08</td><td>Multi</td><td>Jerseys</td><td>Clothing</td></tr><tr><td>228</td><td>Long-Sleeve Logo Jersey, S</td><td>38.49</td><td>Multi</td><td>Jerseys</td><td>Clothing</td></tr><tr><td>229</td><td>Long-Sleeve Logo Jersey, M</td><td>31.72</td><td>Multi</td><td>Jerseys</td><td>Clothing</td></tr><tr><td>230</td><td>Long-Sleeve Logo Jersey, M</td><td>29.08</td><td>Multi</td><td>Jerseys</td><td>Clothing</td></tr><tr><td>231</td><td>Long-Sleeve Logo Jersey, M</td><td>38.49</td><td>Multi</td><td>Jerseys</td><td>Clothing</td></tr><tr><td>232</td><td>Long-Sleeve Logo Jersey, L</td><td>31.72</td><td>Multi</td><td>Jerseys</td><td>Clothing</td></tr><tr><td>233</td><td>Long-Sleeve Logo Jersey, L</td><td>29.08</td><td>Multi</td><td>Jerseys</td><td>Clothing</td></tr><tr><td>234</td><td>Long-Sleeve Logo Jersey, L</td><td>38.49</td><td>Multi</td><td>Jerseys</td><td>Clothing</td></tr><tr><td>235</td><td>Long-Sleeve Logo Jersey, XL</td><td>31.72</td><td>Multi</td><td>Jerseys</td><td>Clothing</td></tr><tr><td>236</td><td>Long-Sleeve Logo Jersey, XL</td><td>29.08</td><td>Multi</td><td>Jerseys</td><td>Clothing</td></tr><tr><td>237</td><td>Long-Sleeve Logo Jersey, XL</td><td>38.49</td><td>Multi</td><td>Jerseys</td><td>Clothing</td></tr><tr><td>238</td><td>HL Road Frame - Red, 62</td><td>747.97</td><td>Red</td><td>Road Frames</td><td>Components</td></tr><tr><td>239</td><td>HL Road Frame - Red, 62</td><td>722.26</td><td>Red</td><td>Road Frames</td><td>Components</td></tr><tr><td>240</td><td>HL Road Frame - Red, 62</td><td>868.63</td><td>Red</td><td>Road Frames</td><td>Components</td></tr><tr><td>241</td><td>HL Road Frame - Red, 44</td><td>747.97</td><td>Red</td><td>Road Frames</td><td>Components</td></tr><tr><td>242</td><td>HL Road Frame - Red, 44</td><td>722.26</td><td>Red</td><td>Road Frames</td><td>Components</td></tr><tr><td>243</td><td>HL Road Frame - Red, 44</td><td>868.63</td><td>Red</td><td>Road Frames</td><td>Components</td></tr><tr><td>244</td><td>HL Road Frame - Red, 48</td><td>747.97</td><td>Red</td><td>Road Frames</td><td>Components</td></tr><tr><td>245</td><td>HL Road Frame - Red, 48</td><td>722.26</td><td>Red</td><td>Road Frames</td><td>Components</td></tr><tr><td>246</td><td>HL Road Frame - Red, 48</td><td>868.63</td><td>Red</td><td>Road Frames</td><td>Components</td></tr><tr><td>247</td><td>HL Road Frame - Red, 52</td><td>747.97</td><td>Red</td><td>Road Frames</td><td>Components</td></tr><tr><td>248</td><td>HL Road Frame - Red, 52</td><td>722.26</td><td>Red</td><td>Road Frames</td><td>Components</td></tr><tr><td>249</td><td>HL Road Frame - Red, 52</td><td>868.63</td><td>Red</td><td>Road Frames</td><td>Components</td></tr><tr><td>250</td><td>HL Road Frame - Red, 56</td><td>747.97</td><td>Red</td><td>Road Frames</td><td>Components</td></tr><tr><td>251</td><td>HL Road Frame - Red, 56</td><td>722.26</td><td>Red</td><td>Road Frames</td><td>Components</td></tr><tr><td>252</td><td>HL Road Frame - Red, 56</td><td>868.63</td><td>Red</td><td>Road Frames</td><td>Components</td></tr><tr><td>262</td><td>LL Road Frame - Red, 44</td><td>181.49</td><td>Red</td><td>Road Frames</td><td>Components</td></tr><tr><td>263</td><td>LL Road Frame - Red, 44</td><td>187.16</td><td>Red</td><td>Road Frames</td><td>Components</td></tr><tr><td>264</td><td>LL Road Frame - Red, 48</td><td>181.49</td><td>Red</td><td>Road Frames</td><td>Components</td></tr><tr><td>265</td><td>LL Road Frame - Red, 48</td><td>187.16</td><td>Red</td><td>Road Frames</td><td>Components</td></tr><tr><td>266</td><td>LL Road Frame - Red, 52</td><td>181.49</td><td>Red</td><td>Road Frames</td><td>Components</td></tr><tr><td>267</td><td>LL Road Frame - Red, 52</td><td>187.16</td><td>Red</td><td>Road Frames</td><td>Components</td></tr><tr><td>268</td><td>LL Road Frame - Red, 58</td><td>181.49</td><td>Red</td><td>Road Frames</td><td>Components</td></tr><tr><td>269</td><td>LL Road Frame - Red, 58</td><td>187.16</td><td>Red</td><td>Road Frames</td><td>Components</td></tr><tr><td>270</td><td>LL Road Frame - Red, 60</td><td>181.49</td><td>Red</td><td>Road Frames</td><td>Components</td></tr><tr><td>271</td><td>LL Road Frame - Red, 60</td><td>187.16</td><td>Red</td><td>Road Frames</td><td>Components</td></tr><tr><td>272</td><td>LL Road Frame - Red, 62</td><td>181.49</td><td>Red</td><td>Road Frames</td><td>Components</td></tr><tr><td>273</td><td>LL Road Frame - Red, 62</td><td>187.16</td><td>Red</td><td>Road Frames</td><td>Components</td></tr><tr><td>274</td><td>ML Road Frame - Red, 44</td><td>352.14</td><td>Red</td><td>Road Frames</td><td>Components</td></tr><tr><td>275</td><td>ML Road Frame - Red, 48</td><td>352.14</td><td>Red</td><td>Road Frames</td><td>Components</td></tr><tr><td>276</td><td>ML Road Frame - Red, 52</td><td>352.14</td><td>Red</td><td>Road Frames</td><td>Components</td></tr><tr><td>277</td><td>ML Road Frame - Red, 58</td><td>352.14</td><td>Red</td><td>Road Frames</td><td>Components</td></tr><tr><td>278</td><td>ML Road Frame - Red, 60</td><td>352.14</td><td>Red</td><td>Road Frames</td><td>Components</td></tr><tr><td>288</td><td>HL Mountain Frame - Silver, 42</td><td>623.84</td><td>Silver</td><td>Mountain Frames</td><td>Components</td></tr><tr><td>289</td><td>HL Mountain Frame - Silver, 42</td><td>660.91</td><td>Silver</td><td>Mountain Frames</td><td>Components</td></tr><tr><td>290</td><td>HL Mountain Frame - Silver, 42</td><td>747.2</td><td>Silver</td><td>Mountain Frames</td><td>Components</td></tr><tr><td>291</td><td>HL Mountain Frame - Silver, 44</td><td>706.81</td><td>Silver</td><td>Mountain Frames</td><td>Components</td></tr><tr><td>292</td><td>HL Mountain Frame - Silver, 48</td><td>706.81</td><td>Silver</td><td>Mountain Frames</td><td>Components</td></tr><tr><td>293</td><td>HL Mountain Frame - Silver, 46</td><td>623.84</td><td>Silver</td><td>Mountain Frames</td><td>Components</td></tr><tr><td>294</td><td>HL Mountain Frame - Silver, 46</td><td>660.91</td><td>Silver</td><td>Mountain Frames</td><td>Components</td></tr><tr><td>295</td><td>HL Mountain Frame - Silver, 46</td><td>747.2</td><td>Silver</td><td>Mountain Frames</td><td>Components</td></tr><tr><td>307</td><td>HL Mountain Frame - Silver, 38</td><td>623.84</td><td>Silver</td><td>Mountain Frames</td><td>Components</td></tr><tr><td>308</td><td>HL Mountain Frame - Silver, 38</td><td>660.91</td><td>Silver</td><td>Mountain Frames</td><td>Components</td></tr><tr><td>309</td><td>HL Mountain Frame - Silver, 38</td><td>747.2</td><td>Silver</td><td>Mountain Frames</td><td>Components</td></tr><tr><td>310</td><td>Road-150 Red, 62</td><td>2171.29</td><td>Red</td><td>Road Bikes</td><td>Bikes</td></tr><tr><td>311</td><td>Road-150 Red, 44</td><td>2171.29</td><td>Red</td><td>Road Bikes</td><td>Bikes</td></tr><tr><td>312</td><td>Road-150 Red, 48</td><td>2171.29</td><td>Red</td><td>Road Bikes</td><td>Bikes</td></tr><tr><td>313</td><td>Road-150 Red, 52</td><td>2171.29</td><td>Red</td><td>Road Bikes</td><td>Bikes</td></tr><tr><td>314</td><td>Road-150 Red, 56</td><td>2171.29</td><td>Red</td><td>Road Bikes</td><td>Bikes</td></tr><tr><td>315</td><td>Road-450 Red, 58</td><td>884.71</td><td>Red</td><td>Road Bikes</td><td>Bikes</td></tr><tr><td>316</td><td>Road-450 Red, 60</td><td>884.71</td><td>Red</td><td>Road Bikes</td><td>Bikes</td></tr><tr><td>317</td><td>Road-450 Red, 44</td><td>884.71</td><td>Red</td><td>Road Bikes</td><td>Bikes</td></tr><tr><td>318</td><td>Road-450 Red, 48</td><td>884.71</td><td>Red</td><td>Road Bikes</td><td>Bikes</td></tr><tr><td>319</td><td>Road-450 Red, 52</td><td>884.71</td><td>Red</td><td>Road Bikes</td><td>Bikes</td></tr><tr><td>320</td><td>Road-650 Red, 58</td><td>413.15</td><td>Red</td><td>Road Bikes</td><td>Bikes</td></tr><tr><td>321</td><td>Road-650 Red, 58</td><td>486.71</td><td>Red</td><td>Road Bikes</td><td>Bikes</td></tr><tr><td>322</td><td>Road-650 Red, 60</td><td>413.15</td><td>Red</td><td>Road Bikes</td><td>Bikes</td></tr><tr><td>323</td><td>Road-650 Red, 60</td><td>486.71</td><td>Red</td><td>Road Bikes</td><td>Bikes</td></tr><tr><td>324</td><td>Road-650 Red, 62</td><td>413.15</td><td>Red</td><td>Road Bikes</td><td>Bikes</td></tr><tr><td>325</td><td>Road-650 Red, 62</td><td>486.71</td><td>Red</td><td>Road Bikes</td><td>Bikes</td></tr><tr><td>326</td><td>Road-650 Red, 44</td><td>413.15</td><td>Red</td><td>Road Bikes</td><td>Bikes</td></tr><tr><td>327</td><td>Road-650 Red, 44</td><td>486.71</td><td>Red</td><td>Road Bikes</td><td>Bikes</td></tr><tr><td>328</td><td>Road-650 Red, 48</td><td>413.15</td><td>Red</td><td>Road Bikes</td><td>Bikes</td></tr><tr><td>329</td><td>Road-650 Red, 48</td><td>486.71</td><td>Red</td><td>Road Bikes</td><td>Bikes</td></tr><tr><td>330</td><td>Road-650 Red, 52</td><td>413.15</td><td>Red</td><td>Road Bikes</td><td>Bikes</td></tr><tr><td>331</td><td>Road-650 Red, 52</td><td>486.71</td><td>Red</td><td>Road Bikes</td><td>Bikes</td></tr><tr><td>344</td><td>Mountain-100 Silver, 38</td><td>1912.15</td><td>Silver</td><td>Mountain Bikes</td><td>Bikes</td></tr><tr><td>345</td><td>Mountain-100 Silver, 42</td><td>1912.15</td><td>Silver</td><td>Mountain Bikes</td><td>Bikes</td></tr><tr><td>346</td><td>Mountain-100 Silver, 44</td><td>1912.15</td><td>Silver</td><td>Mountain Bikes</td><td>Bikes</td></tr><tr><td>347</td><td>Mountain-100 Silver, 48</td><td>1912.15</td><td>Silver</td><td>Mountain Bikes</td><td>Bikes</td></tr><tr><td>352</td><td>Mountain-200 Silver, 38</td><td>1117.86</td><td>Silver</td><td>Mountain Bikes</td><td>Bikes</td></tr><tr><td>353</td><td>Mountain-200 Silver, 38</td><td>1265.62</td><td>Silver</td><td>Mountain Bikes</td><td>Bikes</td></tr><tr><td>354</td><td>Mountain-200 Silver, 42</td><td>1117.86</td><td>Silver</td><td>Mountain Bikes</td><td>Bikes</td></tr><tr><td>355</td><td>Mountain-200 Silver, 42</td><td>1265.62</td><td>Silver</td><td>Mountain Bikes</td><td>Bikes</td></tr><tr><td>356</td><td>Mountain-200 Silver, 46</td><td>1117.86</td><td>Silver</td><td>Mountain Bikes</td><td>Bikes</td></tr><tr><td>357</td><td>Mountain-200 Silver, 46</td><td>1265.62</td><td>Silver</td><td>Mountain Bikes</td><td>Bikes</td></tr><tr><td>368</td><td>Road-250 Red, 44</td><td>1518.79</td><td>Red</td><td>Road Bikes</td><td>Bikes</td></tr><tr><td>369</td><td>Road-250 Red, 48</td><td>1518.79</td><td>Red</td><td>Road Bikes</td><td>Bikes</td></tr><tr><td>370</td><td>Road-250 Red, 52</td><td>1518.79</td><td>Red</td><td>Road Bikes</td><td>Bikes</td></tr><tr><td>371</td><td>Road-250 Red, 58</td><td>1320.68</td><td>Red</td><td>Road Bikes</td><td>Bikes</td></tr><tr><td>372</td><td>Road-250 Red, 58</td><td>1554.95</td><td>Red</td><td>Road Bikes</td><td>Bikes</td></tr><tr><td>381</td><td>Road-550-W Yellow, 38</td><td>605.65</td><td>Yellow</td><td>Road Bikes</td><td>Bikes</td></tr><tr><td>382</td><td>Road-550-W Yellow, 38</td><td>713.08</td><td>Yellow</td><td>Road Bikes</td><td>Bikes</td></tr><tr><td>383</td><td>Road-550-W Yellow, 40</td><td>605.65</td><td>Yellow</td><td>Road Bikes</td><td>Bikes</td></tr><tr><td>384</td><td>Road-550-W Yellow, 40</td><td>713.08</td><td>Yellow</td><td>Road Bikes</td><td>Bikes</td></tr><tr><td>385</td><td>Road-550-W Yellow, 42</td><td>605.65</td><td>Yellow</td><td>Road Bikes</td><td>Bikes</td></tr><tr><td>386</td><td>Road-550-W Yellow, 42</td><td>713.08</td><td>Yellow</td><td>Road Bikes</td><td>Bikes</td></tr><tr><td>387</td><td>Road-550-W Yellow, 44</td><td>605.65</td><td>Yellow</td><td>Road Bikes</td><td>Bikes</td></tr><tr><td>388</td><td>Road-550-W Yellow, 44</td><td>713.08</td><td>Yellow</td><td>Road Bikes</td><td>Bikes</td></tr><tr><td>389</td><td>Road-550-W Yellow, 48</td><td>605.65</td><td>Yellow</td><td>Road Bikes</td><td>Bikes</td></tr><tr><td>390</td><td>Road-550-W Yellow, 48</td><td>713.08</td><td>Yellow</td><td>Road Bikes</td><td>Bikes</td></tr><tr><td>391</td><td>LL Fork</td><td>65.81</td><td>NA</td><td>Forks</td><td>Components</td></tr><tr><td>392</td><td>ML Fork</td><td>77.92</td><td>NA</td><td>Forks</td><td>Components</td></tr><tr><td>393</td><td>HL Fork</td><td>101.89</td><td>NA</td><td>Forks</td><td>Components</td></tr><tr><td>394</td><td>LL Headset</td><td>15.18</td><td>NA</td><td>Headsets</td><td>Components</td></tr><tr><td>395</td><td>ML Headset</td><td>45.42</td><td>NA</td><td>Headsets</td><td>Components</td></tr><tr><td>396</td><td>HL Headset</td><td>55.38</td><td>NA</td><td>Headsets</td><td>Components</td></tr><tr><td>397</td><td>LL Mountain Handlebars</td><td>17.98</td><td>NA</td><td>Handlebars</td><td>Components</td></tr><tr><td>398</td><td>LL Mountain Handlebars</td><td>19.78</td><td>NA</td><td>Handlebars</td><td>Components</td></tr><tr><td>399</td><td>ML Mountain Handlebars</td><td>24.99</td><td>NA</td><td>Handlebars</td><td>Components</td></tr><tr><td>400</td><td>ML Mountain Handlebars</td><td>27.49</td><td>NA</td><td>Handlebars</td><td>Components</td></tr><tr><td>401</td><td>HL Mountain Handlebars</td><td>48.55</td><td>NA</td><td>Handlebars</td><td>Components</td></tr><tr><td>402</td><td>HL Mountain Handlebars</td><td>53.4</td><td>NA</td><td>Handlebars</td><td>Components</td></tr><tr><td>403</td><td>LL Road Handlebars</td><td>17.98</td><td>NA</td><td>Handlebars</td><td>Components</td></tr><tr><td>404</td><td>LL Road Handlebars</td><td>19.78</td><td>NA</td><td>Handlebars</td><td>Components</td></tr><tr><td>405</td><td>ML Road Handlebars</td><td>24.99</td><td>NA</td><td>Handlebars</td><td>Components</td></tr><tr><td>406</td><td>ML Road Handlebars</td><td>27.49</td><td>NA</td><td>Handlebars</td><td>Components</td></tr><tr><td>407</td><td>HL Road Handlebars</td><td>48.55</td><td>NA</td><td>Handlebars</td><td>Components</td></tr><tr><td>408</td><td>HL Road Handlebars</td><td>53.4</td><td>NA</td><td>Handlebars</td><td>Components</td></tr><tr><td>417</td><td>ML Road Frame-W - Yellow, 38</td><td>300.12</td><td>Yellow</td><td>Road Frames</td><td>Components</td></tr><tr><td>418</td><td>ML Road Frame-W - Yellow, 38</td><td>360.94</td><td>Yellow</td><td>Road Frames</td><td>Components</td></tr><tr><td>429</td><td>ML Road Frame-W - Yellow, 40</td><td>300.12</td><td>Yellow</td><td>Road Frames</td><td>Components</td></tr><tr><td>430</td><td>ML Road Frame-W - Yellow, 40</td><td>360.94</td><td>Yellow</td><td>Road Frames</td><td>Components</td></tr><tr><td>431</td><td>ML Road Frame-W - Yellow, 42</td><td>300.12</td><td>Yellow</td><td>Road Frames</td><td>Components</td></tr><tr><td>432</td><td>ML Road Frame-W - Yellow, 42</td><td>360.94</td><td>Yellow</td><td>Road Frames</td><td>Components</td></tr><tr><td>433</td><td>ML Road Frame-W - Yellow, 44</td><td>300.12</td><td>Yellow</td><td>Road Frames</td><td>Components</td></tr><tr><td>434</td><td>ML Road Frame-W - Yellow, 44</td><td>360.94</td><td>Yellow</td><td>Road Frames</td><td>Components</td></tr><tr><td>435</td><td>ML Road Frame-W - Yellow, 48</td><td>300.12</td><td>Yellow</td><td>Road Frames</td><td>Components</td></tr><tr><td>436</td><td>ML Road Frame-W - Yellow, 48</td><td>360.94</td><td>Yellow</td><td>Road Frames</td><td>Components</td></tr><tr><td>446</td><td>Touring-Panniers, Large</td><td>51.56</td><td>Grey</td><td>Panniers</td><td>Accessories</td></tr><tr><td>447</td><td>Cable Lock</td><td>10.31</td><td>NA</td><td>Locks</td><td>Accessories</td></tr><tr><td>448</td><td>Minipump</td><td>8.25</td><td>NA</td><td>Pumps</td><td>Accessories</td></tr><tr><td>449</td><td>Mountain Pump</td><td>10.31</td><td>NA</td><td>Pumps</td><td>Accessories</td></tr><tr><td>450</td><td>Taillights - Battery-Powered</td><td>5.77</td><td>NA</td><td>Lights</td><td>Accessories</td></tr><tr><td>451</td><td>Headlights - Dual-Beam</td><td>14.43</td><td>NA</td><td>Lights</td><td>Accessories</td></tr><tr><td>452</td><td>Headlights - Weatherproof</td><td>18.56</td><td>NA</td><td>Lights</td><td>Accessories</td></tr><tr><td>459</td><td>Men's Bib-Shorts, S</td><td>37.12</td><td>Multi</td><td>Bib-Shorts</td><td>Clothing</td></tr><tr><td>460</td><td>Men's Bib-Shorts, M</td><td>37.12</td><td>Multi</td><td>Bib-Shorts</td><td>Clothing</td></tr><tr><td>461</td><td>Men's Bib-Shorts, L</td><td>37.12</td><td>Multi</td><td>Bib-Shorts</td><td>Clothing</td></tr><tr><td>471</td><td>Classic Vest, S</td><td>23.75</td><td>Blue</td><td>Vests</td><td>Clothing</td></tr><tr><td>472</td><td>Classic Vest, M</td><td>23.75</td><td>Blue</td><td>Vests</td><td>Clothing</td></tr><tr><td>473</td><td>Classic Vest, L</td><td>23.75</td><td>Blue</td><td>Vests</td><td>Clothing</td></tr><tr><td>477</td><td>Water Bottle - 30 oz.</td><td>1.87</td><td>NA</td><td>Bottles and Cages</td><td>Accessories</td></tr><tr><td>478</td><td>Mountain Bottle Cage</td><td>3.74</td><td>NA</td><td>Bottles and Cages</td><td>Accessories</td></tr><tr><td>479</td><td>Road Bottle Cage</td><td>3.36</td><td>NA</td><td>Bottles and Cages</td><td>Accessories</td></tr><tr><td>480</td><td>Patch Kit/8 Patches</td><td>0.86</td><td>NA</td><td>Tires and Tubes</td><td>Accessories</td></tr><tr><td>481</td><td>Racing Socks, M</td><td>3.36</td><td>White</td><td>Socks</td><td>Clothing</td></tr><tr><td>482</td><td>Racing Socks, L</td><td>3.36</td><td>White</td><td>Socks</td><td>Clothing</td></tr><tr><td>483</td><td>Hitch Rack - 4-Bike</td><td>44.88</td><td>NA</td><td>Bike Racks</td><td>Accessories</td></tr><tr><td>484</td><td>Bike Wash - Dissolver</td><td>2.97</td><td>NA</td><td>Cleaners</td><td>Accessories</td></tr><tr><td>485</td><td>Fender Set - Mountain</td><td>8.22</td><td>NA</td><td>Fenders</td><td>Accessories</td></tr><tr><td>486</td><td>All-Purpose Bike Stand</td><td>59.47</td><td>NA</td><td>Bike Stands</td><td>Accessories</td></tr><tr><td>487</td><td>Hydration Pack - 70 oz.</td><td>20.57</td><td>Silver</td><td>Hydration Packs</td><td>Accessories</td></tr><tr><td>488</td><td>Short-Sleeve Classic Jersey, S</td><td>41.57</td><td>Yellow</td><td>Jerseys</td><td>Clothing</td></tr><tr><td>489</td><td>Short-Sleeve Classic Jersey, M</td><td>41.57</td><td>Yellow</td><td>Jerseys</td><td>Clothing</td></tr><tr><td>490</td><td>Short-Sleeve Classic Jersey, L</td><td>41.57</td><td>Yellow</td><td>Jerseys</td><td>Clothing</td></tr><tr><td>491</td><td>Short-Sleeve Classic Jersey, XL</td><td>41.57</td><td>Yellow</td><td>Jerseys</td><td>Clothing</td></tr><tr><td>492</td><td>HL Touring Frame - Yellow, 60</td><td>601.74</td><td>Yellow</td><td>Touring Frames</td><td>Components</td></tr><tr><td>493</td><td>LL Touring Frame - Yellow, 62</td><td>199.85</td><td>Yellow</td><td>Touring Frames</td><td>Components</td></tr><tr><td>494</td><td>HL Touring Frame - Yellow, 46</td><td>601.74</td><td>Yellow</td><td>Touring Frames</td><td>Components</td></tr><tr><td>495</td><td>HL Touring Frame - Yellow, 50</td><td>601.74</td><td>Yellow</td><td>Touring Frames</td><td>Components</td></tr><tr><td>496</td><td>HL Touring Frame - Yellow, 54</td><td>601.74</td><td>Yellow</td><td>Touring Frames</td><td>Components</td></tr><tr><td>497</td><td>HL Touring Frame - Blue, 46</td><td>601.74</td><td>Blue</td><td>Touring Frames</td><td>Components</td></tr><tr><td>498</td><td>HL Touring Frame - Blue, 50</td><td>601.74</td><td>Blue</td><td>Touring Frames</td><td>Components</td></tr><tr><td>499</td><td>HL Touring Frame - Blue, 54</td><td>601.74</td><td>Blue</td><td>Touring Frames</td><td>Components</td></tr><tr><td>500</td><td>HL Touring Frame - Blue, 60</td><td>601.74</td><td>Blue</td><td>Touring Frames</td><td>Components</td></tr><tr><td>501</td><td>Rear Derailleur</td><td>53.93</td><td>Silver</td><td>Derailleurs</td><td>Components</td></tr><tr><td>502</td><td>LL Touring Frame - Blue, 50</td><td>199.85</td><td>Blue</td><td>Touring Frames</td><td>Components</td></tr><tr><td>503</td><td>LL Touring Frame - Blue, 54</td><td>199.85</td><td>Blue</td><td>Touring Frames</td><td>Components</td></tr><tr><td>504</td><td>LL Touring Frame - Blue, 58</td><td>199.85</td><td>Blue</td><td>Touring Frames</td><td>Components</td></tr><tr><td>505</td><td>LL Touring Frame - Blue, 62</td><td>199.85</td><td>Blue</td><td>Touring Frames</td><td>Components</td></tr><tr><td>506</td><td>LL Touring Frame - Yellow, 44</td><td>199.85</td><td>Yellow</td><td>Touring Frames</td><td>Components</td></tr><tr><td>507</td><td>LL Touring Frame - Yellow, 50</td><td>199.85</td><td>Yellow</td><td>Touring Frames</td><td>Components</td></tr><tr><td>508</td><td>LL Touring Frame - Yellow, 54</td><td>199.85</td><td>Yellow</td><td>Touring Frames</td><td>Components</td></tr><tr><td>509</td><td>LL Touring Frame - Yellow, 58</td><td>199.85</td><td>Yellow</td><td>Touring Frames</td><td>Components</td></tr><tr><td>510</td><td>LL Touring Frame - Blue, 44</td><td>199.85</td><td>Blue</td><td>Touring Frames</td><td>Components</td></tr><tr><td>511</td><td>ML Mountain Frame-W - Silver, 40</td><td>199.38</td><td>Silver</td><td>Mountain Frames</td><td>Components</td></tr><tr><td>512</td><td>ML Mountain Frame-W - Silver, 42</td><td>199.38</td><td>Silver</td><td>Mountain Frames</td><td>Components</td></tr><tr><td>513</td><td>ML Mountain Frame-W - Silver, 46</td><td>199.38</td><td>Silver</td><td>Mountain Frames</td><td>Components</td></tr><tr><td>514</td><td>Rear Brakes</td><td>47.29</td><td>Silver</td><td>Brakes</td><td>Components</td></tr><tr><td>515</td><td>LL Mountain Seat/Saddle</td><td>12.04</td><td>NA</td><td>Saddles</td><td>Components</td></tr><tr><td>516</td><td>ML Mountain Seat/Saddle</td><td>17.38</td><td>NA</td><td>Saddles</td><td>Components</td></tr><tr><td>517</td><td>HL Mountain Seat/Saddle</td><td>23.37</td><td>NA</td><td>Saddles</td><td>Components</td></tr><tr><td>518</td><td>LL Road Seat/Saddle</td><td>12.04</td><td>NA</td><td>Saddles</td><td>Components</td></tr><tr><td>519</td><td>ML Road Seat/Saddle</td><td>17.38</td><td>NA</td><td>Saddles</td><td>Components</td></tr><tr><td>520</td><td>HL Road Seat/Saddle</td><td>23.37</td><td>NA</td><td>Saddles</td><td>Components</td></tr><tr><td>521</td><td>LL Touring Seat/Saddle</td><td>12.04</td><td>NA</td><td>Saddles</td><td>Components</td></tr><tr><td>522</td><td>ML Touring Seat/Saddle</td><td>17.38</td><td>NA</td><td>Saddles</td><td>Components</td></tr><tr><td>523</td><td>HL Touring Seat/Saddle</td><td>23.37</td><td>NA</td><td>Saddles</td><td>Components</td></tr><tr><td>524</td><td>LL Mountain Frame - Silver, 42</td><td>144.59</td><td>Silver</td><td>Mountain Frames</td><td>Components</td></tr><tr><td>525</td><td>LL Mountain Frame - Silver, 44</td><td>144.59</td><td>Silver</td><td>Mountain Frames</td><td>Components</td></tr><tr><td>526</td><td>LL Mountain Frame - Silver, 48</td><td>144.59</td><td>Silver</td><td>Mountain Frames</td><td>Components</td></tr><tr><td>527</td><td>LL Mountain Frame - Silver, 52</td><td>144.59</td><td>Silver</td><td>Mountain Frames</td><td>Components</td></tr><tr><td>528</td><td>Mountain Tire Tube</td><td>1.87</td><td>NA</td><td>Tires and Tubes</td><td>Accessories</td></tr><tr><td>529</td><td>Road Tire Tube</td><td>1.49</td><td>NA</td><td>Tires and Tubes</td><td>Accessories</td></tr><tr><td>530</td><td>Touring Tire Tube</td><td>1.87</td><td>NA</td><td>Tires and Tubes</td><td>Accessories</td></tr><tr><td>535</td><td>LL Mountain Tire</td><td>9.35</td><td>NA</td><td>Tires and Tubes</td><td>Accessories</td></tr><tr><td>536</td><td>ML Mountain Tire</td><td>11.22</td><td>NA</td><td>Tires and Tubes</td><td>Accessories</td></tr><tr><td>537</td><td>HL Mountain Tire</td><td>13.09</td><td>NA</td><td>Tires and Tubes</td><td>Accessories</td></tr><tr><td>538</td><td>LL Road Tire</td><td>8.04</td><td>NA</td><td>Tires and Tubes</td><td>Accessories</td></tr><tr><td>539</td><td>ML Road Tire</td><td>9.35</td><td>NA</td><td>Tires and Tubes</td><td>Accessories</td></tr><tr><td>540</td><td>HL Road Tire</td><td>12.19</td><td>NA</td><td>Tires and Tubes</td><td>Accessories</td></tr><tr><td>541</td><td>Touring Tire</td><td>10.84</td><td>NA</td><td>Tires and Tubes</td><td>Accessories</td></tr><tr><td>542</td><td>LL Mountain Pedal</td><td>17.98</td><td>Silver/Black</td><td>Pedals</td><td>Components</td></tr><tr><td>543</td><td>ML Mountain Pedal</td><td>27.57</td><td>Silver/Black</td><td>Pedals</td><td>Components</td></tr><tr><td>544</td><td>HL Mountain Pedal</td><td>35.96</td><td>Silver/Black</td><td>Pedals</td><td>Components</td></tr><tr><td>545</td><td>LL Road Pedal</td><td>17.98</td><td>Silver/Black</td><td>Pedals</td><td>Components</td></tr><tr><td>546</td><td>ML Road Pedal</td><td>27.57</td><td>Silver/Black</td><td>Pedals</td><td>Components</td></tr><tr><td>547</td><td>HL Road Pedal</td><td>35.96</td><td>Silver/Black</td><td>Pedals</td><td>Components</td></tr><tr><td>548</td><td>Touring Pedal</td><td>35.96</td><td>Silver/Black</td><td>Pedals</td><td>Components</td></tr><tr><td>549</td><td>ML Mountain Frame-W - Silver, 38</td><td>199.38</td><td>Silver</td><td>Mountain Frames</td><td>Components</td></tr><tr><td>551</td><td>LL Mountain Frame - Silver, 40</td><td>144.59</td><td>Silver</td><td>Mountain Frames</td><td>Components</td></tr><tr><td>552</td><td>Front Derailleur</td><td>40.62</td><td>Silver</td><td>Derailleurs</td><td>Components</td></tr><tr><td>553</td><td>LL Touring Handlebars</td><td>20.46</td><td>NA</td><td>Handlebars</td><td>Components</td></tr><tr><td>554</td><td>HL Touring Handlebars</td><td>40.66</td><td>NA</td><td>Handlebars</td><td>Components</td></tr><tr><td>555</td><td>Front Brakes</td><td>47.29</td><td>Silver</td><td>Brakes</td><td>Components</td></tr><tr><td>559</td><td>Chain</td><td>8.99</td><td>Silver</td><td>Chains</td><td>Components</td></tr><tr><td>560</td><td>Touring-2000 Blue, 60</td><td>755.15</td><td>Blue</td><td>Touring Bikes</td><td>Bikes</td></tr><tr><td>561</td><td>Touring-1000 Yellow, 46</td><td>1481.94</td><td>Yellow</td><td>Touring Bikes</td><td>Bikes</td></tr><tr><td>562</td><td>Touring-1000 Yellow, 50</td><td>1481.94</td><td>Yellow</td><td>Touring Bikes</td><td>Bikes</td></tr><tr><td>563</td><td>Touring-1000 Yellow, 54</td><td>1481.94</td><td>Yellow</td><td>Touring Bikes</td><td>Bikes</td></tr><tr><td>564</td><td>Touring-1000 Yellow, 60</td><td>1481.94</td><td>Yellow</td><td>Touring Bikes</td><td>Bikes</td></tr><tr><td>565</td><td>Touring-3000 Blue, 54</td><td>461.44</td><td>Blue</td><td>Touring Bikes</td><td>Bikes</td></tr><tr><td>566</td><td>Touring-3000 Blue, 58</td><td>461.44</td><td>Blue</td><td>Touring Bikes</td><td>Bikes</td></tr><tr><td>567</td><td>Touring-3000 Blue, 62</td><td>461.44</td><td>Blue</td><td>Touring Bikes</td><td>Bikes</td></tr><tr><td>568</td><td>Touring-3000 Yellow, 44</td><td>461.44</td><td>Yellow</td><td>Touring Bikes</td><td>Bikes</td></tr><tr><td>569</td><td>Touring-3000 Yellow, 50</td><td>461.44</td><td>Yellow</td><td>Touring Bikes</td><td>Bikes</td></tr><tr><td>570</td><td>Touring-3000 Yellow, 54</td><td>461.44</td><td>Yellow</td><td>Touring Bikes</td><td>Bikes</td></tr><tr><td>571</td><td>Touring-3000 Yellow, 58</td><td>461.44</td><td>Yellow</td><td>Touring Bikes</td><td>Bikes</td></tr><tr><td>572</td><td>Touring-3000 Yellow, 62</td><td>461.44</td><td>Yellow</td><td>Touring Bikes</td><td>Bikes</td></tr><tr><td>573</td><td>Touring-1000 Blue, 46</td><td>1481.94</td><td>Blue</td><td>Touring Bikes</td><td>Bikes</td></tr><tr><td>574</td><td>Touring-1000 Blue, 50</td><td>1481.94</td><td>Blue</td><td>Touring Bikes</td><td>Bikes</td></tr><tr><td>575</td><td>Touring-1000 Blue, 54</td><td>1481.94</td><td>Blue</td><td>Touring Bikes</td><td>Bikes</td></tr><tr><td>576</td><td>Touring-1000 Blue, 60</td><td>1481.94</td><td>Blue</td><td>Touring Bikes</td><td>Bikes</td></tr><tr><td>577</td><td>Touring-2000 Blue, 46</td><td>755.15</td><td>Blue</td><td>Touring Bikes</td><td>Bikes</td></tr><tr><td>578</td><td>Touring-2000 Blue, 50</td><td>755.15</td><td>Blue</td><td>Touring Bikes</td><td>Bikes</td></tr><tr><td>579</td><td>Touring-2000 Blue, 54</td><td>755.15</td><td>Blue</td><td>Touring Bikes</td><td>Bikes</td></tr><tr><td>580</td><td>Road-350-W Yellow, 40</td><td>1082.51</td><td>Yellow</td><td>Road Bikes</td><td>Bikes</td></tr><tr><td>581</td><td>Road-350-W Yellow, 42</td><td>1082.51</td><td>Yellow</td><td>Road Bikes</td><td>Bikes</td></tr><tr><td>582</td><td>Road-350-W Yellow, 44</td><td>1082.51</td><td>Yellow</td><td>Road Bikes</td><td>Bikes</td></tr><tr><td>583</td><td>Road-350-W Yellow, 48</td><td>1082.51</td><td>Yellow</td><td>Road Bikes</td><td>Bikes</td></tr><tr><td>585</td><td>Touring-3000 Blue, 44</td><td>461.44</td><td>Blue</td><td>Touring Bikes</td><td>Bikes</td></tr><tr><td>586</td><td>Touring-3000 Blue, 50</td><td>461.44</td><td>Blue</td><td>Touring Bikes</td><td>Bikes</td></tr><tr><td>587</td><td>Mountain-400-W Silver, 38</td><td>419.78</td><td>Silver</td><td>Mountain Bikes</td><td>Bikes</td></tr><tr><td>588</td><td>Mountain-400-W Silver, 40</td><td>419.78</td><td>Silver</td><td>Mountain Bikes</td><td>Bikes</td></tr><tr><td>589</td><td>Mountain-400-W Silver, 42</td><td>419.78</td><td>Silver</td><td>Mountain Bikes</td><td>Bikes</td></tr><tr><td>590</td><td>Mountain-400-W Silver, 46</td><td>419.78</td><td>Silver</td><td>Mountain Bikes</td><td>Bikes</td></tr><tr><td>591</td><td>Mountain-500 Silver, 40</td><td>308.22</td><td>Silver</td><td>Mountain Bikes</td><td>Bikes</td></tr><tr><td>592</td><td>Mountain-500 Silver, 42</td><td>308.22</td><td>Silver</td><td>Mountain Bikes</td><td>Bikes</td></tr><tr><td>593</td><td>Mountain-500 Silver, 44</td><td>308.22</td><td>Silver</td><td>Mountain Bikes</td><td>Bikes</td></tr><tr><td>594</td><td>Mountain-500 Silver, 48</td><td>308.22</td><td>Silver</td><td>Mountain Bikes</td><td>Bikes</td></tr><tr><td>595</td><td>Mountain-500 Silver, 52</td><td>308.22</td><td>Silver</td><td>Mountain Bikes</td><td>Bikes</td></tr><tr><td>601</td><td>LL Bottom Bracket</td><td>23.97</td><td>NA</td><td>Bottom Brackets</td><td>Components</td></tr><tr><td>602</td><td>ML Bottom Bracket</td><td>44.95</td><td>NA</td><td>Bottom Brackets</td><td>Components</td></tr><tr><td>603</td><td>HL Bottom Bracket</td><td>53.94</td><td>NA</td><td>Bottom Brackets</td><td>Components</td></tr></tbody></table></div>"
      ]
     },
     "metadata": {
      "application/vnd.databricks.v1+output": {
       "addedWidgets": {},
       "aggData": [],
       "aggError": "",
       "aggOverflow": false,
       "aggSchema": [],
       "aggSeriesLimitReached": false,
       "aggType": "",
       "arguments": {},
       "columnCustomDisplayInfos": {},
       "data": [
        [
         210,
         "HL Road Frame - Black, 58",
         868.63,
         "Black",
         "Road Frames",
         "Components"
        ],
        [
         215,
         "Sport-100 Helmet, Black",
         12.03,
         "Black",
         "Helmets",
         "Accessories"
        ],
        [
         216,
         "Sport-100 Helmet, Black",
         13.88,
         "Black",
         "Helmets",
         "Accessories"
        ],
        [
         217,
         "Sport-100 Helmet, Black",
         13.09,
         "Black",
         "Helmets",
         "Accessories"
        ],
        [
         253,
         "LL Road Frame - Black, 58",
         176.2,
         "Black",
         "Road Frames",
         "Components"
        ],
        [
         254,
         "LL Road Frame - Black, 58",
         170.14,
         "Black",
         "Road Frames",
         "Components"
        ],
        [
         255,
         "LL Road Frame - Black, 58",
         204.63,
         "Black",
         "Road Frames",
         "Components"
        ],
        [
         256,
         "LL Road Frame - Black, 60",
         176.2,
         "Black",
         "Road Frames",
         "Components"
        ],
        [
         257,
         "LL Road Frame - Black, 60",
         170.14,
         "Black",
         "Road Frames",
         "Components"
        ],
        [
         258,
         "LL Road Frame - Black, 60",
         204.63,
         "Black",
         "Road Frames",
         "Components"
        ],
        [
         259,
         "LL Road Frame - Black, 62",
         176.2,
         "Black",
         "Road Frames",
         "Components"
        ],
        [
         260,
         "LL Road Frame - Black, 62",
         170.14,
         "Black",
         "Road Frames",
         "Components"
        ],
        [
         261,
         "LL Road Frame - Black, 62",
         204.63,
         "Black",
         "Road Frames",
         "Components"
        ],
        [
         279,
         "LL Road Frame - Black, 44",
         176.2,
         "Black",
         "Road Frames",
         "Components"
        ],
        [
         280,
         "LL Road Frame - Black, 44",
         170.14,
         "Black",
         "Road Frames",
         "Components"
        ],
        [
         281,
         "LL Road Frame - Black, 44",
         204.63,
         "Black",
         "Road Frames",
         "Components"
        ],
        [
         282,
         "LL Road Frame - Black, 48",
         176.2,
         "Black",
         "Road Frames",
         "Components"
        ],
        [
         283,
         "LL Road Frame - Black, 48",
         170.14,
         "Black",
         "Road Frames",
         "Components"
        ],
        [
         284,
         "LL Road Frame - Black, 48",
         204.63,
         "Black",
         "Road Frames",
         "Components"
        ],
        [
         285,
         "LL Road Frame - Black, 52",
         176.2,
         "Black",
         "Road Frames",
         "Components"
        ],
        [
         286,
         "LL Road Frame - Black, 52",
         170.14,
         "Black",
         "Road Frames",
         "Components"
        ],
        [
         287,
         "LL Road Frame - Black, 52",
         204.63,
         "Black",
         "Road Frames",
         "Components"
        ],
        [
         296,
         "HL Mountain Frame - Black, 42",
         617.03,
         "Black",
         "Mountain Frames",
         "Components"
        ],
        [
         297,
         "HL Mountain Frame - Black, 42",
         653.7,
         "Black",
         "Mountain Frames",
         "Components"
        ],
        [
         298,
         "HL Mountain Frame - Black, 42",
         739.04,
         "Black",
         "Mountain Frames",
         "Components"
        ],
        [
         299,
         "HL Mountain Frame - Black, 44",
         699.09,
         "Black",
         "Mountain Frames",
         "Components"
        ],
        [
         300,
         "HL Mountain Frame - Black, 48",
         699.09,
         "Black",
         "Mountain Frames",
         "Components"
        ],
        [
         301,
         "HL Mountain Frame - Black, 46",
         617.03,
         "Black",
         "Mountain Frames",
         "Components"
        ],
        [
         302,
         "HL Mountain Frame - Black, 46",
         653.7,
         "Black",
         "Mountain Frames",
         "Components"
        ],
        [
         303,
         "HL Mountain Frame - Black, 46",
         739.04,
         "Black",
         "Mountain Frames",
         "Components"
        ],
        [
         304,
         "HL Mountain Frame - Black, 38",
         617.03,
         "Black",
         "Mountain Frames",
         "Components"
        ],
        [
         305,
         "HL Mountain Frame - Black, 38",
         653.7,
         "Black",
         "Mountain Frames",
         "Components"
        ],
        [
         306,
         "HL Mountain Frame - Black, 38",
         739.04,
         "Black",
         "Mountain Frames",
         "Components"
        ],
        [
         332,
         "Road-650 Black, 58",
         413.15,
         "Black",
         "Road Bikes",
         "Bikes"
        ],
        [
         333,
         "Road-650 Black, 58",
         486.71,
         "Black",
         "Road Bikes",
         "Bikes"
        ],
        [
         334,
         "Road-650 Black, 60",
         413.15,
         "Black",
         "Road Bikes",
         "Bikes"
        ],
        [
         335,
         "Road-650 Black, 60",
         486.71,
         "Black",
         "Road Bikes",
         "Bikes"
        ],
        [
         336,
         "Road-650 Black, 62",
         413.15,
         "Black",
         "Road Bikes",
         "Bikes"
        ],
        [
         337,
         "Road-650 Black, 62",
         486.71,
         "Black",
         "Road Bikes",
         "Bikes"
        ],
        [
         338,
         "Road-650 Black, 44",
         413.15,
         "Black",
         "Road Bikes",
         "Bikes"
        ],
        [
         339,
         "Road-650 Black, 44",
         486.71,
         "Black",
         "Road Bikes",
         "Bikes"
        ],
        [
         340,
         "Road-650 Black, 48",
         413.15,
         "Black",
         "Road Bikes",
         "Bikes"
        ],
        [
         341,
         "Road-650 Black, 48",
         486.71,
         "Black",
         "Road Bikes",
         "Bikes"
        ],
        [
         342,
         "Road-650 Black, 52",
         413.15,
         "Black",
         "Road Bikes",
         "Bikes"
        ],
        [
         343,
         "Road-650 Black, 52",
         486.71,
         "Black",
         "Road Bikes",
         "Bikes"
        ],
        [
         348,
         "Mountain-100 Black, 38",
         1898.09,
         "Black",
         "Mountain Bikes",
         "Bikes"
        ],
        [
         349,
         "Mountain-100 Black, 42",
         1898.09,
         "Black",
         "Mountain Bikes",
         "Bikes"
        ],
        [
         350,
         "Mountain-100 Black, 44",
         1898.09,
         "Black",
         "Mountain Bikes",
         "Bikes"
        ],
        [
         351,
         "Mountain-100 Black, 48",
         1898.09,
         "Black",
         "Mountain Bikes",
         "Bikes"
        ],
        [
         358,
         "Mountain-200 Black, 38",
         1105.81,
         "Black",
         "Mountain Bikes",
         "Bikes"
        ],
        [
         359,
         "Mountain-200 Black, 38",
         1251.98,
         "Black",
         "Mountain Bikes",
         "Bikes"
        ],
        [
         360,
         "Mountain-200 Black, 42",
         1105.81,
         "Black",
         "Mountain Bikes",
         "Bikes"
        ],
        [
         361,
         "Mountain-200 Black, 42",
         1251.98,
         "Black",
         "Mountain Bikes",
         "Bikes"
        ],
        [
         362,
         "Mountain-200 Black, 46",
         1105.81,
         "Black",
         "Mountain Bikes",
         "Bikes"
        ],
        [
         363,
         "Mountain-200 Black, 46",
         1251.98,
         "Black",
         "Mountain Bikes",
         "Bikes"
        ],
        [
         364,
         "Mountain-300 Black, 38",
         598.44,
         "Black",
         "Mountain Bikes",
         "Bikes"
        ],
        [
         365,
         "Mountain-300 Black, 40",
         598.44,
         "Black",
         "Mountain Bikes",
         "Bikes"
        ],
        [
         366,
         "Mountain-300 Black, 44",
         598.44,
         "Black",
         "Mountain Bikes",
         "Bikes"
        ],
        [
         367,
         "Mountain-300 Black, 48",
         598.44,
         "Black",
         "Mountain Bikes",
         "Bikes"
        ],
        [
         373,
         "Road-250 Black, 44",
         1320.68,
         "Black",
         "Road Bikes",
         "Bikes"
        ],
        [
         374,
         "Road-250 Black, 44",
         1554.95,
         "Black",
         "Road Bikes",
         "Bikes"
        ],
        [
         375,
         "Road-250 Black, 48",
         1320.68,
         "Black",
         "Road Bikes",
         "Bikes"
        ],
        [
         376,
         "Road-250 Black, 48",
         1554.95,
         "Black",
         "Road Bikes",
         "Bikes"
        ],
        [
         377,
         "Road-250 Black, 52",
         1320.68,
         "Black",
         "Road Bikes",
         "Bikes"
        ],
        [
         378,
         "Road-250 Black, 52",
         1554.95,
         "Black",
         "Road Bikes",
         "Bikes"
        ],
        [
         379,
         "Road-250 Black, 58",
         1320.68,
         "Black",
         "Road Bikes",
         "Bikes"
        ],
        [
         380,
         "Road-250 Black, 58",
         1554.95,
         "Black",
         "Road Bikes",
         "Bikes"
        ],
        [
         409,
         "ML Mountain Frame - Black, 38",
         185.82,
         "Black",
         "Mountain Frames",
         "Components"
        ],
        [
         410,
         "LL Mountain Front Wheel",
         26.97,
         "Black",
         "Wheels",
         "Components"
        ],
        [
         411,
         "ML Mountain Front Wheel",
         92.81,
         "Black",
         "Wheels",
         "Components"
        ],
        [
         412,
         "HL Mountain Front Wheel",
         133.3,
         "Black",
         "Wheels",
         "Components"
        ],
        [
         413,
         "LL Road Front Wheel",
         37.99,
         "Black",
         "Wheels",
         "Components"
        ],
        [
         414,
         "ML Road Front Wheel",
         110.28,
         "Black",
         "Wheels",
         "Components"
        ],
        [
         415,
         "HL Road Front Wheel",
         146.55,
         "Black",
         "Wheels",
         "Components"
        ],
        [
         416,
         "Touring Front Wheel",
         96.8,
         "Black",
         "Wheels",
         "Components"
        ],
        [
         419,
         "LL Mountain Rear Wheel",
         38.96,
         "Black",
         "Wheels",
         "Components"
        ],
        [
         420,
         "ML Mountain Rear Wheel",
         104.8,
         "Black",
         "Wheels",
         "Components"
        ],
        [
         421,
         "HL Mountain Rear Wheel",
         145.28,
         "Black",
         "Wheels",
         "Components"
        ],
        [
         422,
         "LL Road Rear Wheel",
         49.98,
         "Black",
         "Wheels",
         "Components"
        ],
        [
         423,
         "ML Road Rear Wheel",
         122.27,
         "Black",
         "Wheels",
         "Components"
        ],
        [
         424,
         "HL Road Rear Wheel",
         158.53,
         "Black",
         "Wheels",
         "Components"
        ],
        [
         425,
         "Touring Rear Wheel",
         108.78,
         "Black",
         "Wheels",
         "Components"
        ],
        [
         426,
         "ML Mountain Frame - Black, 40",
         185.82,
         "Black",
         "Mountain Frames",
         "Components"
        ],
        [
         427,
         "ML Mountain Frame - Black, 44",
         185.82,
         "Black",
         "Mountain Frames",
         "Components"
        ],
        [
         428,
         "ML Mountain Frame - Black, 48",
         185.82,
         "Black",
         "Mountain Frames",
         "Components"
        ],
        [
         437,
         "HL Road Frame - Black, 62",
         722.26,
         "Black",
         "Road Frames",
         "Components"
        ],
        [
         438,
         "HL Road Frame - Black, 62",
         868.63,
         "Black",
         "Road Frames",
         "Components"
        ],
        [
         439,
         "HL Road Frame - Black, 44",
         868.63,
         "Black",
         "Road Frames",
         "Components"
        ],
        [
         440,
         "HL Road Frame - Black, 44",
         868.63,
         "Black",
         "Road Frames",
         "Components"
        ],
        [
         441,
         "HL Road Frame - Black, 48",
         722.26,
         "Black",
         "Road Frames",
         "Components"
        ],
        [
         442,
         "HL Road Frame - Black, 48",
         868.63,
         "Black",
         "Road Frames",
         "Components"
        ],
        [
         443,
         "HL Road Frame - Black, 52",
         722.26,
         "Black",
         "Road Frames",
         "Components"
        ],
        [
         444,
         "HL Road Frame - Black, 52",
         868.63,
         "Black",
         "Road Frames",
         "Components"
        ],
        [
         445,
         "Men's Sports Shorts, S",
         24.75,
         "Black",
         "Shorts",
         "Clothing"
        ],
        [
         453,
         "Men's Sports Shorts, M",
         24.75,
         "Black",
         "Shorts",
         "Clothing"
        ],
        [
         454,
         "Men's Sports Shorts, L",
         24.75,
         "Black",
         "Shorts",
         "Clothing"
        ],
        [
         455,
         "Men's Sports Shorts, XL",
         24.75,
         "Black",
         "Shorts",
         "Clothing"
        ],
        [
         456,
         "Women's Tights, S",
         30.93,
         "Black",
         "Tights",
         "Clothing"
        ],
        [
         457,
         "Women's Tights, M",
         30.93,
         "Black",
         "Tights",
         "Clothing"
        ],
        [
         458,
         "Women's Tights, L",
         30.93,
         "Black",
         "Tights",
         "Clothing"
        ],
        [
         462,
         "Half-Finger Gloves, S",
         9.71,
         "Black",
         "Gloves",
         "Clothing"
        ],
        [
         463,
         "Half-Finger Gloves, S",
         9.16,
         "Black",
         "Gloves",
         "Clothing"
        ],
        [
         464,
         "Half-Finger Gloves, M",
         9.71,
         "Black",
         "Gloves",
         "Clothing"
        ],
        [
         465,
         "Half-Finger Gloves, M",
         9.16,
         "Black",
         "Gloves",
         "Clothing"
        ],
        [
         466,
         "Half-Finger Gloves, L",
         9.71,
         "Black",
         "Gloves",
         "Clothing"
        ],
        [
         467,
         "Half-Finger Gloves, L",
         9.16,
         "Black",
         "Gloves",
         "Clothing"
        ],
        [
         468,
         "Full-Finger Gloves, S",
         15.67,
         "Black",
         "Gloves",
         "Clothing"
        ],
        [
         469,
         "Full-Finger Gloves, M",
         15.67,
         "Black",
         "Gloves",
         "Clothing"
        ],
        [
         470,
         "Full-Finger Gloves, L",
         15.67,
         "Black",
         "Gloves",
         "Clothing"
        ],
        [
         474,
         "Women's Mountain Shorts, S",
         26.18,
         "Black",
         "Shorts",
         "Clothing"
        ],
        [
         475,
         "Women's Mountain Shorts, M",
         26.18,
         "Black",
         "Shorts",
         "Clothing"
        ],
        [
         476,
         "Women's Mountain Shorts, L",
         26.18,
         "Black",
         "Shorts",
         "Clothing"
        ],
        [
         531,
         "LL Mountain Frame - Black, 42",
         136.79,
         "Black",
         "Mountain Frames",
         "Components"
        ],
        [
         532,
         "LL Mountain Frame - Black, 44",
         136.79,
         "Black",
         "Mountain Frames",
         "Components"
        ],
        [
         533,
         "LL Mountain Frame - Black, 48",
         136.79,
         "Black",
         "Mountain Frames",
         "Components"
        ],
        [
         534,
         "LL Mountain Frame - Black, 52",
         136.79,
         "Black",
         "Mountain Frames",
         "Components"
        ],
        [
         550,
         "LL Mountain Frame - Black, 40",
         136.79,
         "Black",
         "Mountain Frames",
         "Components"
        ],
        [
         556,
         "LL Crankset",
         77.92,
         "Black",
         "Cranksets",
         "Components"
        ],
        [
         557,
         "ML Crankset",
         113.88,
         "Black",
         "Cranksets",
         "Components"
        ],
        [
         558,
         "HL Crankset",
         179.82,
         "Black",
         "Cranksets",
         "Components"
        ],
        [
         584,
         "Road-750 Black, 58",
         343.65,
         "Black",
         "Road Bikes",
         "Bikes"
        ],
        [
         596,
         "Mountain-500 Black, 40",
         294.58,
         "Black",
         "Mountain Bikes",
         "Bikes"
        ],
        [
         597,
         "Mountain-500 Black, 42",
         294.58,
         "Black",
         "Mountain Bikes",
         "Bikes"
        ],
        [
         598,
         "Mountain-500 Black, 44",
         294.58,
         "Black",
         "Mountain Bikes",
         "Bikes"
        ],
        [
         599,
         "Mountain-500 Black, 48",
         294.58,
         "Black",
         "Mountain Bikes",
         "Bikes"
        ],
        [
         600,
         "Mountain-500 Black, 52",
         294.58,
         "Black",
         "Mountain Bikes",
         "Bikes"
        ],
        [
         604,
         "Road-750 Black, 44",
         343.65,
         "Black",
         "Road Bikes",
         "Bikes"
        ],
        [
         605,
         "Road-750 Black, 48",
         343.65,
         "Black",
         "Road Bikes",
         "Bikes"
        ],
        [
         606,
         "Road-750 Black, 52",
         343.65,
         "Black",
         "Road Bikes",
         "Bikes"
        ],
        [
         211,
         "HL Road Frame - Red, 58",
         868.63,
         "Red",
         "Road Frames",
         "Components"
        ],
        [
         212,
         "Sport-100 Helmet, Red",
         12.03,
         "Red",
         "Helmets",
         "Accessories"
        ],
        [
         213,
         "Sport-100 Helmet, Red",
         13.88,
         "Red",
         "Helmets",
         "Accessories"
        ],
        [
         214,
         "Sport-100 Helmet, Red",
         13.09,
         "Red",
         "Helmets",
         "Accessories"
        ],
        [
         220,
         "Sport-100 Helmet, Blue",
         12.03,
         "Blue",
         "Helmets",
         "Accessories"
        ],
        [
         218,
         "Mountain Bike Socks, M",
         3.4,
         "White",
         "Socks",
         "Clothing"
        ],
        [
         219,
         "Mountain Bike Socks, L",
         3.4,
         "White",
         "Socks",
         "Clothing"
        ],
        [
         221,
         "Sport-100 Helmet, Blue",
         13.88,
         "Blue",
         "Helmets",
         "Accessories"
        ],
        [
         222,
         "Sport-100 Helmet, Blue",
         13.09,
         "Blue",
         "Helmets",
         "Accessories"
        ],
        [
         223,
         "AWC Logo Cap",
         5.71,
         "Multi",
         "Caps",
         "Clothing"
        ],
        [
         224,
         "AWC Logo Cap",
         5.23,
         "Multi",
         "Caps",
         "Clothing"
        ],
        [
         225,
         "AWC Logo Cap",
         6.92,
         "Multi",
         "Caps",
         "Clothing"
        ],
        [
         226,
         "Long-Sleeve Logo Jersey, S",
         31.72,
         "Multi",
         "Jerseys",
         "Clothing"
        ],
        [
         227,
         "Long-Sleeve Logo Jersey, S",
         29.08,
         "Multi",
         "Jerseys",
         "Clothing"
        ],
        [
         228,
         "Long-Sleeve Logo Jersey, S",
         38.49,
         "Multi",
         "Jerseys",
         "Clothing"
        ],
        [
         229,
         "Long-Sleeve Logo Jersey, M",
         31.72,
         "Multi",
         "Jerseys",
         "Clothing"
        ],
        [
         230,
         "Long-Sleeve Logo Jersey, M",
         29.08,
         "Multi",
         "Jerseys",
         "Clothing"
        ],
        [
         231,
         "Long-Sleeve Logo Jersey, M",
         38.49,
         "Multi",
         "Jerseys",
         "Clothing"
        ],
        [
         232,
         "Long-Sleeve Logo Jersey, L",
         31.72,
         "Multi",
         "Jerseys",
         "Clothing"
        ],
        [
         233,
         "Long-Sleeve Logo Jersey, L",
         29.08,
         "Multi",
         "Jerseys",
         "Clothing"
        ],
        [
         234,
         "Long-Sleeve Logo Jersey, L",
         38.49,
         "Multi",
         "Jerseys",
         "Clothing"
        ],
        [
         235,
         "Long-Sleeve Logo Jersey, XL",
         31.72,
         "Multi",
         "Jerseys",
         "Clothing"
        ],
        [
         236,
         "Long-Sleeve Logo Jersey, XL",
         29.08,
         "Multi",
         "Jerseys",
         "Clothing"
        ],
        [
         237,
         "Long-Sleeve Logo Jersey, XL",
         38.49,
         "Multi",
         "Jerseys",
         "Clothing"
        ],
        [
         238,
         "HL Road Frame - Red, 62",
         747.97,
         "Red",
         "Road Frames",
         "Components"
        ],
        [
         239,
         "HL Road Frame - Red, 62",
         722.26,
         "Red",
         "Road Frames",
         "Components"
        ],
        [
         240,
         "HL Road Frame - Red, 62",
         868.63,
         "Red",
         "Road Frames",
         "Components"
        ],
        [
         241,
         "HL Road Frame - Red, 44",
         747.97,
         "Red",
         "Road Frames",
         "Components"
        ],
        [
         242,
         "HL Road Frame - Red, 44",
         722.26,
         "Red",
         "Road Frames",
         "Components"
        ],
        [
         243,
         "HL Road Frame - Red, 44",
         868.63,
         "Red",
         "Road Frames",
         "Components"
        ],
        [
         244,
         "HL Road Frame - Red, 48",
         747.97,
         "Red",
         "Road Frames",
         "Components"
        ],
        [
         245,
         "HL Road Frame - Red, 48",
         722.26,
         "Red",
         "Road Frames",
         "Components"
        ],
        [
         246,
         "HL Road Frame - Red, 48",
         868.63,
         "Red",
         "Road Frames",
         "Components"
        ],
        [
         247,
         "HL Road Frame - Red, 52",
         747.97,
         "Red",
         "Road Frames",
         "Components"
        ],
        [
         248,
         "HL Road Frame - Red, 52",
         722.26,
         "Red",
         "Road Frames",
         "Components"
        ],
        [
         249,
         "HL Road Frame - Red, 52",
         868.63,
         "Red",
         "Road Frames",
         "Components"
        ],
        [
         250,
         "HL Road Frame - Red, 56",
         747.97,
         "Red",
         "Road Frames",
         "Components"
        ],
        [
         251,
         "HL Road Frame - Red, 56",
         722.26,
         "Red",
         "Road Frames",
         "Components"
        ],
        [
         252,
         "HL Road Frame - Red, 56",
         868.63,
         "Red",
         "Road Frames",
         "Components"
        ],
        [
         262,
         "LL Road Frame - Red, 44",
         181.49,
         "Red",
         "Road Frames",
         "Components"
        ],
        [
         263,
         "LL Road Frame - Red, 44",
         187.16,
         "Red",
         "Road Frames",
         "Components"
        ],
        [
         264,
         "LL Road Frame - Red, 48",
         181.49,
         "Red",
         "Road Frames",
         "Components"
        ],
        [
         265,
         "LL Road Frame - Red, 48",
         187.16,
         "Red",
         "Road Frames",
         "Components"
        ],
        [
         266,
         "LL Road Frame - Red, 52",
         181.49,
         "Red",
         "Road Frames",
         "Components"
        ],
        [
         267,
         "LL Road Frame - Red, 52",
         187.16,
         "Red",
         "Road Frames",
         "Components"
        ],
        [
         268,
         "LL Road Frame - Red, 58",
         181.49,
         "Red",
         "Road Frames",
         "Components"
        ],
        [
         269,
         "LL Road Frame - Red, 58",
         187.16,
         "Red",
         "Road Frames",
         "Components"
        ],
        [
         270,
         "LL Road Frame - Red, 60",
         181.49,
         "Red",
         "Road Frames",
         "Components"
        ],
        [
         271,
         "LL Road Frame - Red, 60",
         187.16,
         "Red",
         "Road Frames",
         "Components"
        ],
        [
         272,
         "LL Road Frame - Red, 62",
         181.49,
         "Red",
         "Road Frames",
         "Components"
        ],
        [
         273,
         "LL Road Frame - Red, 62",
         187.16,
         "Red",
         "Road Frames",
         "Components"
        ],
        [
         274,
         "ML Road Frame - Red, 44",
         352.14,
         "Red",
         "Road Frames",
         "Components"
        ],
        [
         275,
         "ML Road Frame - Red, 48",
         352.14,
         "Red",
         "Road Frames",
         "Components"
        ],
        [
         276,
         "ML Road Frame - Red, 52",
         352.14,
         "Red",
         "Road Frames",
         "Components"
        ],
        [
         277,
         "ML Road Frame - Red, 58",
         352.14,
         "Red",
         "Road Frames",
         "Components"
        ],
        [
         278,
         "ML Road Frame - Red, 60",
         352.14,
         "Red",
         "Road Frames",
         "Components"
        ],
        [
         288,
         "HL Mountain Frame - Silver, 42",
         623.84,
         "Silver",
         "Mountain Frames",
         "Components"
        ],
        [
         289,
         "HL Mountain Frame - Silver, 42",
         660.91,
         "Silver",
         "Mountain Frames",
         "Components"
        ],
        [
         290,
         "HL Mountain Frame - Silver, 42",
         747.2,
         "Silver",
         "Mountain Frames",
         "Components"
        ],
        [
         291,
         "HL Mountain Frame - Silver, 44",
         706.81,
         "Silver",
         "Mountain Frames",
         "Components"
        ],
        [
         292,
         "HL Mountain Frame - Silver, 48",
         706.81,
         "Silver",
         "Mountain Frames",
         "Components"
        ],
        [
         293,
         "HL Mountain Frame - Silver, 46",
         623.84,
         "Silver",
         "Mountain Frames",
         "Components"
        ],
        [
         294,
         "HL Mountain Frame - Silver, 46",
         660.91,
         "Silver",
         "Mountain Frames",
         "Components"
        ],
        [
         295,
         "HL Mountain Frame - Silver, 46",
         747.2,
         "Silver",
         "Mountain Frames",
         "Components"
        ],
        [
         307,
         "HL Mountain Frame - Silver, 38",
         623.84,
         "Silver",
         "Mountain Frames",
         "Components"
        ],
        [
         308,
         "HL Mountain Frame - Silver, 38",
         660.91,
         "Silver",
         "Mountain Frames",
         "Components"
        ],
        [
         309,
         "HL Mountain Frame - Silver, 38",
         747.2,
         "Silver",
         "Mountain Frames",
         "Components"
        ],
        [
         310,
         "Road-150 Red, 62",
         2171.29,
         "Red",
         "Road Bikes",
         "Bikes"
        ],
        [
         311,
         "Road-150 Red, 44",
         2171.29,
         "Red",
         "Road Bikes",
         "Bikes"
        ],
        [
         312,
         "Road-150 Red, 48",
         2171.29,
         "Red",
         "Road Bikes",
         "Bikes"
        ],
        [
         313,
         "Road-150 Red, 52",
         2171.29,
         "Red",
         "Road Bikes",
         "Bikes"
        ],
        [
         314,
         "Road-150 Red, 56",
         2171.29,
         "Red",
         "Road Bikes",
         "Bikes"
        ],
        [
         315,
         "Road-450 Red, 58",
         884.71,
         "Red",
         "Road Bikes",
         "Bikes"
        ],
        [
         316,
         "Road-450 Red, 60",
         884.71,
         "Red",
         "Road Bikes",
         "Bikes"
        ],
        [
         317,
         "Road-450 Red, 44",
         884.71,
         "Red",
         "Road Bikes",
         "Bikes"
        ],
        [
         318,
         "Road-450 Red, 48",
         884.71,
         "Red",
         "Road Bikes",
         "Bikes"
        ],
        [
         319,
         "Road-450 Red, 52",
         884.71,
         "Red",
         "Road Bikes",
         "Bikes"
        ],
        [
         320,
         "Road-650 Red, 58",
         413.15,
         "Red",
         "Road Bikes",
         "Bikes"
        ],
        [
         321,
         "Road-650 Red, 58",
         486.71,
         "Red",
         "Road Bikes",
         "Bikes"
        ],
        [
         322,
         "Road-650 Red, 60",
         413.15,
         "Red",
         "Road Bikes",
         "Bikes"
        ],
        [
         323,
         "Road-650 Red, 60",
         486.71,
         "Red",
         "Road Bikes",
         "Bikes"
        ],
        [
         324,
         "Road-650 Red, 62",
         413.15,
         "Red",
         "Road Bikes",
         "Bikes"
        ],
        [
         325,
         "Road-650 Red, 62",
         486.71,
         "Red",
         "Road Bikes",
         "Bikes"
        ],
        [
         326,
         "Road-650 Red, 44",
         413.15,
         "Red",
         "Road Bikes",
         "Bikes"
        ],
        [
         327,
         "Road-650 Red, 44",
         486.71,
         "Red",
         "Road Bikes",
         "Bikes"
        ],
        [
         328,
         "Road-650 Red, 48",
         413.15,
         "Red",
         "Road Bikes",
         "Bikes"
        ],
        [
         329,
         "Road-650 Red, 48",
         486.71,
         "Red",
         "Road Bikes",
         "Bikes"
        ],
        [
         330,
         "Road-650 Red, 52",
         413.15,
         "Red",
         "Road Bikes",
         "Bikes"
        ],
        [
         331,
         "Road-650 Red, 52",
         486.71,
         "Red",
         "Road Bikes",
         "Bikes"
        ],
        [
         344,
         "Mountain-100 Silver, 38",
         1912.15,
         "Silver",
         "Mountain Bikes",
         "Bikes"
        ],
        [
         345,
         "Mountain-100 Silver, 42",
         1912.15,
         "Silver",
         "Mountain Bikes",
         "Bikes"
        ],
        [
         346,
         "Mountain-100 Silver, 44",
         1912.15,
         "Silver",
         "Mountain Bikes",
         "Bikes"
        ],
        [
         347,
         "Mountain-100 Silver, 48",
         1912.15,
         "Silver",
         "Mountain Bikes",
         "Bikes"
        ],
        [
         352,
         "Mountain-200 Silver, 38",
         1117.86,
         "Silver",
         "Mountain Bikes",
         "Bikes"
        ],
        [
         353,
         "Mountain-200 Silver, 38",
         1265.62,
         "Silver",
         "Mountain Bikes",
         "Bikes"
        ],
        [
         354,
         "Mountain-200 Silver, 42",
         1117.86,
         "Silver",
         "Mountain Bikes",
         "Bikes"
        ],
        [
         355,
         "Mountain-200 Silver, 42",
         1265.62,
         "Silver",
         "Mountain Bikes",
         "Bikes"
        ],
        [
         356,
         "Mountain-200 Silver, 46",
         1117.86,
         "Silver",
         "Mountain Bikes",
         "Bikes"
        ],
        [
         357,
         "Mountain-200 Silver, 46",
         1265.62,
         "Silver",
         "Mountain Bikes",
         "Bikes"
        ],
        [
         368,
         "Road-250 Red, 44",
         1518.79,
         "Red",
         "Road Bikes",
         "Bikes"
        ],
        [
         369,
         "Road-250 Red, 48",
         1518.79,
         "Red",
         "Road Bikes",
         "Bikes"
        ],
        [
         370,
         "Road-250 Red, 52",
         1518.79,
         "Red",
         "Road Bikes",
         "Bikes"
        ],
        [
         371,
         "Road-250 Red, 58",
         1320.68,
         "Red",
         "Road Bikes",
         "Bikes"
        ],
        [
         372,
         "Road-250 Red, 58",
         1554.95,
         "Red",
         "Road Bikes",
         "Bikes"
        ],
        [
         381,
         "Road-550-W Yellow, 38",
         605.65,
         "Yellow",
         "Road Bikes",
         "Bikes"
        ],
        [
         382,
         "Road-550-W Yellow, 38",
         713.08,
         "Yellow",
         "Road Bikes",
         "Bikes"
        ],
        [
         383,
         "Road-550-W Yellow, 40",
         605.65,
         "Yellow",
         "Road Bikes",
         "Bikes"
        ],
        [
         384,
         "Road-550-W Yellow, 40",
         713.08,
         "Yellow",
         "Road Bikes",
         "Bikes"
        ],
        [
         385,
         "Road-550-W Yellow, 42",
         605.65,
         "Yellow",
         "Road Bikes",
         "Bikes"
        ],
        [
         386,
         "Road-550-W Yellow, 42",
         713.08,
         "Yellow",
         "Road Bikes",
         "Bikes"
        ],
        [
         387,
         "Road-550-W Yellow, 44",
         605.65,
         "Yellow",
         "Road Bikes",
         "Bikes"
        ],
        [
         388,
         "Road-550-W Yellow, 44",
         713.08,
         "Yellow",
         "Road Bikes",
         "Bikes"
        ],
        [
         389,
         "Road-550-W Yellow, 48",
         605.65,
         "Yellow",
         "Road Bikes",
         "Bikes"
        ],
        [
         390,
         "Road-550-W Yellow, 48",
         713.08,
         "Yellow",
         "Road Bikes",
         "Bikes"
        ],
        [
         391,
         "LL Fork",
         65.81,
         "NA",
         "Forks",
         "Components"
        ],
        [
         392,
         "ML Fork",
         77.92,
         "NA",
         "Forks",
         "Components"
        ],
        [
         393,
         "HL Fork",
         101.89,
         "NA",
         "Forks",
         "Components"
        ],
        [
         394,
         "LL Headset",
         15.18,
         "NA",
         "Headsets",
         "Components"
        ],
        [
         395,
         "ML Headset",
         45.42,
         "NA",
         "Headsets",
         "Components"
        ],
        [
         396,
         "HL Headset",
         55.38,
         "NA",
         "Headsets",
         "Components"
        ],
        [
         397,
         "LL Mountain Handlebars",
         17.98,
         "NA",
         "Handlebars",
         "Components"
        ],
        [
         398,
         "LL Mountain Handlebars",
         19.78,
         "NA",
         "Handlebars",
         "Components"
        ],
        [
         399,
         "ML Mountain Handlebars",
         24.99,
         "NA",
         "Handlebars",
         "Components"
        ],
        [
         400,
         "ML Mountain Handlebars",
         27.49,
         "NA",
         "Handlebars",
         "Components"
        ],
        [
         401,
         "HL Mountain Handlebars",
         48.55,
         "NA",
         "Handlebars",
         "Components"
        ],
        [
         402,
         "HL Mountain Handlebars",
         53.4,
         "NA",
         "Handlebars",
         "Components"
        ],
        [
         403,
         "LL Road Handlebars",
         17.98,
         "NA",
         "Handlebars",
         "Components"
        ],
        [
         404,
         "LL Road Handlebars",
         19.78,
         "NA",
         "Handlebars",
         "Components"
        ],
        [
         405,
         "ML Road Handlebars",
         24.99,
         "NA",
         "Handlebars",
         "Components"
        ],
        [
         406,
         "ML Road Handlebars",
         27.49,
         "NA",
         "Handlebars",
         "Components"
        ],
        [
         407,
         "HL Road Handlebars",
         48.55,
         "NA",
         "Handlebars",
         "Components"
        ],
        [
         408,
         "HL Road Handlebars",
         53.4,
         "NA",
         "Handlebars",
         "Components"
        ],
        [
         417,
         "ML Road Frame-W - Yellow, 38",
         300.12,
         "Yellow",
         "Road Frames",
         "Components"
        ],
        [
         418,
         "ML Road Frame-W - Yellow, 38",
         360.94,
         "Yellow",
         "Road Frames",
         "Components"
        ],
        [
         429,
         "ML Road Frame-W - Yellow, 40",
         300.12,
         "Yellow",
         "Road Frames",
         "Components"
        ],
        [
         430,
         "ML Road Frame-W - Yellow, 40",
         360.94,
         "Yellow",
         "Road Frames",
         "Components"
        ],
        [
         431,
         "ML Road Frame-W - Yellow, 42",
         300.12,
         "Yellow",
         "Road Frames",
         "Components"
        ],
        [
         432,
         "ML Road Frame-W - Yellow, 42",
         360.94,
         "Yellow",
         "Road Frames",
         "Components"
        ],
        [
         433,
         "ML Road Frame-W - Yellow, 44",
         300.12,
         "Yellow",
         "Road Frames",
         "Components"
        ],
        [
         434,
         "ML Road Frame-W - Yellow, 44",
         360.94,
         "Yellow",
         "Road Frames",
         "Components"
        ],
        [
         435,
         "ML Road Frame-W - Yellow, 48",
         300.12,
         "Yellow",
         "Road Frames",
         "Components"
        ],
        [
         436,
         "ML Road Frame-W - Yellow, 48",
         360.94,
         "Yellow",
         "Road Frames",
         "Components"
        ],
        [
         446,
         "Touring-Panniers, Large",
         51.56,
         "Grey",
         "Panniers",
         "Accessories"
        ],
        [
         447,
         "Cable Lock",
         10.31,
         "NA",
         "Locks",
         "Accessories"
        ],
        [
         448,
         "Minipump",
         8.25,
         "NA",
         "Pumps",
         "Accessories"
        ],
        [
         449,
         "Mountain Pump",
         10.31,
         "NA",
         "Pumps",
         "Accessories"
        ],
        [
         450,
         "Taillights - Battery-Powered",
         5.77,
         "NA",
         "Lights",
         "Accessories"
        ],
        [
         451,
         "Headlights - Dual-Beam",
         14.43,
         "NA",
         "Lights",
         "Accessories"
        ],
        [
         452,
         "Headlights - Weatherproof",
         18.56,
         "NA",
         "Lights",
         "Accessories"
        ],
        [
         459,
         "Men's Bib-Shorts, S",
         37.12,
         "Multi",
         "Bib-Shorts",
         "Clothing"
        ],
        [
         460,
         "Men's Bib-Shorts, M",
         37.12,
         "Multi",
         "Bib-Shorts",
         "Clothing"
        ],
        [
         461,
         "Men's Bib-Shorts, L",
         37.12,
         "Multi",
         "Bib-Shorts",
         "Clothing"
        ],
        [
         471,
         "Classic Vest, S",
         23.75,
         "Blue",
         "Vests",
         "Clothing"
        ],
        [
         472,
         "Classic Vest, M",
         23.75,
         "Blue",
         "Vests",
         "Clothing"
        ],
        [
         473,
         "Classic Vest, L",
         23.75,
         "Blue",
         "Vests",
         "Clothing"
        ],
        [
         477,
         "Water Bottle - 30 oz.",
         1.87,
         "NA",
         "Bottles and Cages",
         "Accessories"
        ],
        [
         478,
         "Mountain Bottle Cage",
         3.74,
         "NA",
         "Bottles and Cages",
         "Accessories"
        ],
        [
         479,
         "Road Bottle Cage",
         3.36,
         "NA",
         "Bottles and Cages",
         "Accessories"
        ],
        [
         480,
         "Patch Kit/8 Patches",
         0.86,
         "NA",
         "Tires and Tubes",
         "Accessories"
        ],
        [
         481,
         "Racing Socks, M",
         3.36,
         "White",
         "Socks",
         "Clothing"
        ],
        [
         482,
         "Racing Socks, L",
         3.36,
         "White",
         "Socks",
         "Clothing"
        ],
        [
         483,
         "Hitch Rack - 4-Bike",
         44.88,
         "NA",
         "Bike Racks",
         "Accessories"
        ],
        [
         484,
         "Bike Wash - Dissolver",
         2.97,
         "NA",
         "Cleaners",
         "Accessories"
        ],
        [
         485,
         "Fender Set - Mountain",
         8.22,
         "NA",
         "Fenders",
         "Accessories"
        ],
        [
         486,
         "All-Purpose Bike Stand",
         59.47,
         "NA",
         "Bike Stands",
         "Accessories"
        ],
        [
         487,
         "Hydration Pack - 70 oz.",
         20.57,
         "Silver",
         "Hydration Packs",
         "Accessories"
        ],
        [
         488,
         "Short-Sleeve Classic Jersey, S",
         41.57,
         "Yellow",
         "Jerseys",
         "Clothing"
        ],
        [
         489,
         "Short-Sleeve Classic Jersey, M",
         41.57,
         "Yellow",
         "Jerseys",
         "Clothing"
        ],
        [
         490,
         "Short-Sleeve Classic Jersey, L",
         41.57,
         "Yellow",
         "Jerseys",
         "Clothing"
        ],
        [
         491,
         "Short-Sleeve Classic Jersey, XL",
         41.57,
         "Yellow",
         "Jerseys",
         "Clothing"
        ],
        [
         492,
         "HL Touring Frame - Yellow, 60",
         601.74,
         "Yellow",
         "Touring Frames",
         "Components"
        ],
        [
         493,
         "LL Touring Frame - Yellow, 62",
         199.85,
         "Yellow",
         "Touring Frames",
         "Components"
        ],
        [
         494,
         "HL Touring Frame - Yellow, 46",
         601.74,
         "Yellow",
         "Touring Frames",
         "Components"
        ],
        [
         495,
         "HL Touring Frame - Yellow, 50",
         601.74,
         "Yellow",
         "Touring Frames",
         "Components"
        ],
        [
         496,
         "HL Touring Frame - Yellow, 54",
         601.74,
         "Yellow",
         "Touring Frames",
         "Components"
        ],
        [
         497,
         "HL Touring Frame - Blue, 46",
         601.74,
         "Blue",
         "Touring Frames",
         "Components"
        ],
        [
         498,
         "HL Touring Frame - Blue, 50",
         601.74,
         "Blue",
         "Touring Frames",
         "Components"
        ],
        [
         499,
         "HL Touring Frame - Blue, 54",
         601.74,
         "Blue",
         "Touring Frames",
         "Components"
        ],
        [
         500,
         "HL Touring Frame - Blue, 60",
         601.74,
         "Blue",
         "Touring Frames",
         "Components"
        ],
        [
         501,
         "Rear Derailleur",
         53.93,
         "Silver",
         "Derailleurs",
         "Components"
        ],
        [
         502,
         "LL Touring Frame - Blue, 50",
         199.85,
         "Blue",
         "Touring Frames",
         "Components"
        ],
        [
         503,
         "LL Touring Frame - Blue, 54",
         199.85,
         "Blue",
         "Touring Frames",
         "Components"
        ],
        [
         504,
         "LL Touring Frame - Blue, 58",
         199.85,
         "Blue",
         "Touring Frames",
         "Components"
        ],
        [
         505,
         "LL Touring Frame - Blue, 62",
         199.85,
         "Blue",
         "Touring Frames",
         "Components"
        ],
        [
         506,
         "LL Touring Frame - Yellow, 44",
         199.85,
         "Yellow",
         "Touring Frames",
         "Components"
        ],
        [
         507,
         "LL Touring Frame - Yellow, 50",
         199.85,
         "Yellow",
         "Touring Frames",
         "Components"
        ],
        [
         508,
         "LL Touring Frame - Yellow, 54",
         199.85,
         "Yellow",
         "Touring Frames",
         "Components"
        ],
        [
         509,
         "LL Touring Frame - Yellow, 58",
         199.85,
         "Yellow",
         "Touring Frames",
         "Components"
        ],
        [
         510,
         "LL Touring Frame - Blue, 44",
         199.85,
         "Blue",
         "Touring Frames",
         "Components"
        ],
        [
         511,
         "ML Mountain Frame-W - Silver, 40",
         199.38,
         "Silver",
         "Mountain Frames",
         "Components"
        ],
        [
         512,
         "ML Mountain Frame-W - Silver, 42",
         199.38,
         "Silver",
         "Mountain Frames",
         "Components"
        ],
        [
         513,
         "ML Mountain Frame-W - Silver, 46",
         199.38,
         "Silver",
         "Mountain Frames",
         "Components"
        ],
        [
         514,
         "Rear Brakes",
         47.29,
         "Silver",
         "Brakes",
         "Components"
        ],
        [
         515,
         "LL Mountain Seat/Saddle",
         12.04,
         "NA",
         "Saddles",
         "Components"
        ],
        [
         516,
         "ML Mountain Seat/Saddle",
         17.38,
         "NA",
         "Saddles",
         "Components"
        ],
        [
         517,
         "HL Mountain Seat/Saddle",
         23.37,
         "NA",
         "Saddles",
         "Components"
        ],
        [
         518,
         "LL Road Seat/Saddle",
         12.04,
         "NA",
         "Saddles",
         "Components"
        ],
        [
         519,
         "ML Road Seat/Saddle",
         17.38,
         "NA",
         "Saddles",
         "Components"
        ],
        [
         520,
         "HL Road Seat/Saddle",
         23.37,
         "NA",
         "Saddles",
         "Components"
        ],
        [
         521,
         "LL Touring Seat/Saddle",
         12.04,
         "NA",
         "Saddles",
         "Components"
        ],
        [
         522,
         "ML Touring Seat/Saddle",
         17.38,
         "NA",
         "Saddles",
         "Components"
        ],
        [
         523,
         "HL Touring Seat/Saddle",
         23.37,
         "NA",
         "Saddles",
         "Components"
        ],
        [
         524,
         "LL Mountain Frame - Silver, 42",
         144.59,
         "Silver",
         "Mountain Frames",
         "Components"
        ],
        [
         525,
         "LL Mountain Frame - Silver, 44",
         144.59,
         "Silver",
         "Mountain Frames",
         "Components"
        ],
        [
         526,
         "LL Mountain Frame - Silver, 48",
         144.59,
         "Silver",
         "Mountain Frames",
         "Components"
        ],
        [
         527,
         "LL Mountain Frame - Silver, 52",
         144.59,
         "Silver",
         "Mountain Frames",
         "Components"
        ],
        [
         528,
         "Mountain Tire Tube",
         1.87,
         "NA",
         "Tires and Tubes",
         "Accessories"
        ],
        [
         529,
         "Road Tire Tube",
         1.49,
         "NA",
         "Tires and Tubes",
         "Accessories"
        ],
        [
         530,
         "Touring Tire Tube",
         1.87,
         "NA",
         "Tires and Tubes",
         "Accessories"
        ],
        [
         535,
         "LL Mountain Tire",
         9.35,
         "NA",
         "Tires and Tubes",
         "Accessories"
        ],
        [
         536,
         "ML Mountain Tire",
         11.22,
         "NA",
         "Tires and Tubes",
         "Accessories"
        ],
        [
         537,
         "HL Mountain Tire",
         13.09,
         "NA",
         "Tires and Tubes",
         "Accessories"
        ],
        [
         538,
         "LL Road Tire",
         8.04,
         "NA",
         "Tires and Tubes",
         "Accessories"
        ],
        [
         539,
         "ML Road Tire",
         9.35,
         "NA",
         "Tires and Tubes",
         "Accessories"
        ],
        [
         540,
         "HL Road Tire",
         12.19,
         "NA",
         "Tires and Tubes",
         "Accessories"
        ],
        [
         541,
         "Touring Tire",
         10.84,
         "NA",
         "Tires and Tubes",
         "Accessories"
        ],
        [
         542,
         "LL Mountain Pedal",
         17.98,
         "Silver/Black",
         "Pedals",
         "Components"
        ],
        [
         543,
         "ML Mountain Pedal",
         27.57,
         "Silver/Black",
         "Pedals",
         "Components"
        ],
        [
         544,
         "HL Mountain Pedal",
         35.96,
         "Silver/Black",
         "Pedals",
         "Components"
        ],
        [
         545,
         "LL Road Pedal",
         17.98,
         "Silver/Black",
         "Pedals",
         "Components"
        ],
        [
         546,
         "ML Road Pedal",
         27.57,
         "Silver/Black",
         "Pedals",
         "Components"
        ],
        [
         547,
         "HL Road Pedal",
         35.96,
         "Silver/Black",
         "Pedals",
         "Components"
        ],
        [
         548,
         "Touring Pedal",
         35.96,
         "Silver/Black",
         "Pedals",
         "Components"
        ],
        [
         549,
         "ML Mountain Frame-W - Silver, 38",
         199.38,
         "Silver",
         "Mountain Frames",
         "Components"
        ],
        [
         551,
         "LL Mountain Frame - Silver, 40",
         144.59,
         "Silver",
         "Mountain Frames",
         "Components"
        ],
        [
         552,
         "Front Derailleur",
         40.62,
         "Silver",
         "Derailleurs",
         "Components"
        ],
        [
         553,
         "LL Touring Handlebars",
         20.46,
         "NA",
         "Handlebars",
         "Components"
        ],
        [
         554,
         "HL Touring Handlebars",
         40.66,
         "NA",
         "Handlebars",
         "Components"
        ],
        [
         555,
         "Front Brakes",
         47.29,
         "Silver",
         "Brakes",
         "Components"
        ],
        [
         559,
         "Chain",
         8.99,
         "Silver",
         "Chains",
         "Components"
        ],
        [
         560,
         "Touring-2000 Blue, 60",
         755.15,
         "Blue",
         "Touring Bikes",
         "Bikes"
        ],
        [
         561,
         "Touring-1000 Yellow, 46",
         1481.94,
         "Yellow",
         "Touring Bikes",
         "Bikes"
        ],
        [
         562,
         "Touring-1000 Yellow, 50",
         1481.94,
         "Yellow",
         "Touring Bikes",
         "Bikes"
        ],
        [
         563,
         "Touring-1000 Yellow, 54",
         1481.94,
         "Yellow",
         "Touring Bikes",
         "Bikes"
        ],
        [
         564,
         "Touring-1000 Yellow, 60",
         1481.94,
         "Yellow",
         "Touring Bikes",
         "Bikes"
        ],
        [
         565,
         "Touring-3000 Blue, 54",
         461.44,
         "Blue",
         "Touring Bikes",
         "Bikes"
        ],
        [
         566,
         "Touring-3000 Blue, 58",
         461.44,
         "Blue",
         "Touring Bikes",
         "Bikes"
        ],
        [
         567,
         "Touring-3000 Blue, 62",
         461.44,
         "Blue",
         "Touring Bikes",
         "Bikes"
        ],
        [
         568,
         "Touring-3000 Yellow, 44",
         461.44,
         "Yellow",
         "Touring Bikes",
         "Bikes"
        ],
        [
         569,
         "Touring-3000 Yellow, 50",
         461.44,
         "Yellow",
         "Touring Bikes",
         "Bikes"
        ],
        [
         570,
         "Touring-3000 Yellow, 54",
         461.44,
         "Yellow",
         "Touring Bikes",
         "Bikes"
        ],
        [
         571,
         "Touring-3000 Yellow, 58",
         461.44,
         "Yellow",
         "Touring Bikes",
         "Bikes"
        ],
        [
         572,
         "Touring-3000 Yellow, 62",
         461.44,
         "Yellow",
         "Touring Bikes",
         "Bikes"
        ],
        [
         573,
         "Touring-1000 Blue, 46",
         1481.94,
         "Blue",
         "Touring Bikes",
         "Bikes"
        ],
        [
         574,
         "Touring-1000 Blue, 50",
         1481.94,
         "Blue",
         "Touring Bikes",
         "Bikes"
        ],
        [
         575,
         "Touring-1000 Blue, 54",
         1481.94,
         "Blue",
         "Touring Bikes",
         "Bikes"
        ],
        [
         576,
         "Touring-1000 Blue, 60",
         1481.94,
         "Blue",
         "Touring Bikes",
         "Bikes"
        ],
        [
         577,
         "Touring-2000 Blue, 46",
         755.15,
         "Blue",
         "Touring Bikes",
         "Bikes"
        ],
        [
         578,
         "Touring-2000 Blue, 50",
         755.15,
         "Blue",
         "Touring Bikes",
         "Bikes"
        ],
        [
         579,
         "Touring-2000 Blue, 54",
         755.15,
         "Blue",
         "Touring Bikes",
         "Bikes"
        ],
        [
         580,
         "Road-350-W Yellow, 40",
         1082.51,
         "Yellow",
         "Road Bikes",
         "Bikes"
        ],
        [
         581,
         "Road-350-W Yellow, 42",
         1082.51,
         "Yellow",
         "Road Bikes",
         "Bikes"
        ],
        [
         582,
         "Road-350-W Yellow, 44",
         1082.51,
         "Yellow",
         "Road Bikes",
         "Bikes"
        ],
        [
         583,
         "Road-350-W Yellow, 48",
         1082.51,
         "Yellow",
         "Road Bikes",
         "Bikes"
        ],
        [
         585,
         "Touring-3000 Blue, 44",
         461.44,
         "Blue",
         "Touring Bikes",
         "Bikes"
        ],
        [
         586,
         "Touring-3000 Blue, 50",
         461.44,
         "Blue",
         "Touring Bikes",
         "Bikes"
        ],
        [
         587,
         "Mountain-400-W Silver, 38",
         419.78,
         "Silver",
         "Mountain Bikes",
         "Bikes"
        ],
        [
         588,
         "Mountain-400-W Silver, 40",
         419.78,
         "Silver",
         "Mountain Bikes",
         "Bikes"
        ],
        [
         589,
         "Mountain-400-W Silver, 42",
         419.78,
         "Silver",
         "Mountain Bikes",
         "Bikes"
        ],
        [
         590,
         "Mountain-400-W Silver, 46",
         419.78,
         "Silver",
         "Mountain Bikes",
         "Bikes"
        ],
        [
         591,
         "Mountain-500 Silver, 40",
         308.22,
         "Silver",
         "Mountain Bikes",
         "Bikes"
        ],
        [
         592,
         "Mountain-500 Silver, 42",
         308.22,
         "Silver",
         "Mountain Bikes",
         "Bikes"
        ],
        [
         593,
         "Mountain-500 Silver, 44",
         308.22,
         "Silver",
         "Mountain Bikes",
         "Bikes"
        ],
        [
         594,
         "Mountain-500 Silver, 48",
         308.22,
         "Silver",
         "Mountain Bikes",
         "Bikes"
        ],
        [
         595,
         "Mountain-500 Silver, 52",
         308.22,
         "Silver",
         "Mountain Bikes",
         "Bikes"
        ],
        [
         601,
         "LL Bottom Bracket",
         23.97,
         "NA",
         "Bottom Brackets",
         "Components"
        ],
        [
         602,
         "ML Bottom Bracket",
         44.95,
         "NA",
         "Bottom Brackets",
         "Components"
        ],
        [
         603,
         "HL Bottom Bracket",
         53.94,
         "NA",
         "Bottom Brackets",
         "Components"
        ]
       ],
       "datasetInfos": [],
       "dbfsResultPath": null,
       "isJsonSchema": true,
       "metadata": {},
       "overflow": false,
       "plotOptions": {
        "customPlotOptions": {},
        "displayType": "table",
        "pivotAggregation": null,
        "pivotColumns": null,
        "xColumns": null,
        "yColumns": null
       },
       "removedWidgets": [],
       "schema": [
        {
         "metadata": "{}",
         "name": "product_key",
         "type": "\"integer\""
        },
        {
         "metadata": "{}",
         "name": "product",
         "type": "\"string\""
        },
        {
         "metadata": "{}",
         "name": "standard_cost",
         "type": "\"double\""
        },
        {
         "metadata": "{}",
         "name": "color",
         "type": "\"string\""
        },
        {
         "metadata": "{}",
         "name": "subcategory",
         "type": "\"string\""
        },
        {
         "metadata": "{}",
         "name": "category",
         "type": "\"string\""
        }
       ],
       "type": "table"
      }
     },
     "output_type": "display_data"
    }
   ],
   "source": [
    "display(df_product)"
   ]
  },
  {
   "cell_type": "code",
   "execution_count": 0,
   "metadata": {
    "application/vnd.databricks.v1+cell": {
     "cellMetadata": {
      "byteLimit": 2048000,
      "rowLimit": 10000
     },
     "inputWidgets": {},
     "nuid": "6b996545-2377-429e-926e-aa9f2e6b8024",
     "showTitle": false,
     "tableResultSettingsMap": {},
     "title": ""
    }
   },
   "outputs": [],
   "source": [
    "df_product = df_product.withColumn('model_name',trim(split(col('product'),',')[0]))"
   ]
  },
  {
   "cell_type": "code",
   "execution_count": 0,
   "metadata": {
    "application/vnd.databricks.v1+cell": {
     "cellMetadata": {
      "byteLimit": 2048000,
      "rowLimit": 10000
     },
     "inputWidgets": {},
     "nuid": "a6ea7aa9-b034-4941-8fa5-4999dbf80239",
     "showTitle": false,
     "tableResultSettingsMap": {},
     "title": ""
    }
   },
   "outputs": [],
   "source": [
    "color_pattern = '(' + 'Black|Red|Silver|Yellow|Blue' + ')'\n",
    "\n",
    "df_product = (df_product\n",
    "              \n",
    "    # Remove color names\n",
    "    .withColumn(\"model_name_clean\", regexp_replace(col(\"model_name\"), color_pattern, \"\"))\n",
    "\n",
    "    # Remove '-W' and '-W -'\n",
    "    .withColumn(\"model_name_clean\", regexp_replace(col(\"model_name_clean\"), r'-W\\s*-?', \"\"))\n",
    "\n",
    "    # Remove multiple spaces or leftover hyphens at the end\n",
    "    .withColumn(\"model_name_clean\", regexp_replace(col(\"model_name_clean\"), r'[-\\s]+$', \"\"))\n",
    "\n",
    "    # Remove extra internal spaces\n",
    "    .withColumn(\"model_name_clean\", regexp_replace(col(\"model_name_clean\"), r'\\s+', \" \"))\n",
    "\n",
    "    # Trim leading/trailing spaces\n",
    "    .withColumn(\"model_name_clean\", trim(col(\"model_name_clean\")))\n",
    ")"
   ]
  },
  {
   "cell_type": "code",
   "execution_count": 0,
   "metadata": {
    "application/vnd.databricks.v1+cell": {
     "cellMetadata": {
      "byteLimit": 2048000,
      "rowLimit": 10000
     },
     "inputWidgets": {},
     "nuid": "db5863af-819c-4c5e-8cee-55951a3c2c60",
     "showTitle": false,
     "tableResultSettingsMap": {},
     "title": ""
    }
   },
   "outputs": [],
   "source": [
    "df_product = df_product.drop('model_name')"
   ]
  },
  {
   "cell_type": "code",
   "execution_count": 0,
   "metadata": {
    "application/vnd.databricks.v1+cell": {
     "cellMetadata": {
      "byteLimit": 2048000,
      "rowLimit": 10000
     },
     "inputWidgets": {},
     "nuid": "9559124f-219a-4e0c-92ca-5fa171af6946",
     "showTitle": false,
     "tableResultSettingsMap": {},
     "title": ""
    }
   },
   "outputs": [],
   "source": [
    "df_product = df_product.withColumnRenamed('model_name_clean', 'model_name')"
   ]
  },
  {
   "cell_type": "markdown",
   "metadata": {
    "application/vnd.databricks.v1+cell": {
     "cellMetadata": {
      "byteLimit": 2048000,
      "rowLimit": 10000
     },
     "inputWidgets": {},
     "nuid": "5065506b-f4b5-4fb7-9b86-519d9a26ff10",
     "showTitle": false,
     "tableResultSettingsMap": {},
     "title": ""
    }
   },
   "source": [
    "### Transforming silver_sales\n"
   ]
  },
  {
   "cell_type": "code",
   "execution_count": 0,
   "metadata": {
    "application/vnd.databricks.v1+cell": {
     "cellMetadata": {
      "byteLimit": 2048000,
      "rowLimit": 10000
     },
     "inputWidgets": {},
     "nuid": "8cecd85b-604a-4dde-8b9f-4315a80e7fd2",
     "showTitle": false,
     "tableResultSettingsMap": {},
     "title": ""
    }
   },
   "outputs": [],
   "source": [
    "df_sales = df_sales.withColumn(\"profit\", round(col(\"sales\") - col(\"cost\"),2))"
   ]
  },
  {
   "cell_type": "code",
   "execution_count": 0,
   "metadata": {
    "application/vnd.databricks.v1+cell": {
     "cellMetadata": {
      "byteLimit": 2048000,
      "rowLimit": 10000
     },
     "inputWidgets": {},
     "nuid": "915232c0-e321-4622-b204-16b567143696",
     "showTitle": false,
     "tableResultSettingsMap": {},
     "title": ""
    }
   },
   "outputs": [],
   "source": [
    "df_sales = df_sales.withColumn(\"loss\",when(col(\"profit\")<0, True).otherwise(False))"
   ]
  },
  {
   "cell_type": "code",
   "execution_count": 0,
   "metadata": {
    "application/vnd.databricks.v1+cell": {
     "cellMetadata": {
      "byteLimit": 2048000,
      "rowLimit": 10000
     },
     "inputWidgets": {},
     "nuid": "772ce277-3d72-486f-8327-df9d5c8c24fa",
     "showTitle": false,
     "tableResultSettingsMap": {},
     "title": ""
    }
   },
   "outputs": [],
   "source": [
    "df_sales = df_sales.withColumn(\"profir_category\", when(col(\"profit\")<0, \"Loss\")\n",
    "                                                 .when(col(\"profit\")>=0, \"Low Profit\")\n",
    "                                                 .when(col(\"profit\")>=50, \"Medium Profit\")\n",
    "                                                 .when(col(\"profit\")>=100, \"High Profit\")\n",
    "                                                 .when(col(\"profit\")>=500, \"Very High Profit\")\n",
    "                                                 .otherwise(\"Highest Profit\"))"
   ]
  },
  {
   "cell_type": "markdown",
   "metadata": {
    "application/vnd.databricks.v1+cell": {
     "cellMetadata": {
      "byteLimit": 2048000,
      "rowLimit": 10000
     },
     "inputWidgets": {},
     "nuid": "bf36e21c-4d2f-41a3-9268-84e9f53b8650",
     "showTitle": false,
     "tableResultSettingsMap": {},
     "title": ""
    }
   },
   "source": [
    "### Transforming silver_salesperson"
   ]
  },
  {
   "cell_type": "code",
   "execution_count": 0,
   "metadata": {
    "application/vnd.databricks.v1+cell": {
     "cellMetadata": {
      "byteLimit": 2048000,
      "rowLimit": 10000
     },
     "inputWidgets": {},
     "nuid": "2b4debd4-3150-468c-95bb-033e2892d636",
     "showTitle": false,
     "tableResultSettingsMap": {},
     "title": ""
    }
   },
   "outputs": [],
   "source": [
    "df_salesperson = df_salesperson.withColumn(\"username\",regexp_replace(split(col(\"email\"), \"@\")[0], \"-\", \".\"))"
   ]
  },
  {
   "cell_type": "markdown",
   "metadata": {
    "application/vnd.databricks.v1+cell": {
     "cellMetadata": {
      "byteLimit": 2048000,
      "rowLimit": 10000
     },
     "inputWidgets": {},
     "nuid": "a5d6d952-89e9-4a1a-8110-6baacbd825d3",
     "showTitle": false,
     "tableResultSettingsMap": {},
     "title": ""
    }
   },
   "source": [
    "### Writing all the files to Gold Layer"
   ]
  },
  {
   "cell_type": "code",
   "execution_count": 0,
   "metadata": {
    "application/vnd.databricks.v1+cell": {
     "cellMetadata": {
      "byteLimit": 2048000,
      "rowLimit": 10000
     },
     "inputWidgets": {},
     "nuid": "71a833b3-9ffa-4f89-84d6-5e18d396f1e8",
     "showTitle": false,
     "tableResultSettingsMap": {},
     "title": ""
    }
   },
   "outputs": [],
   "source": [
    "def write_to_gold_tables(df,table_name):\n",
    "    df.write.format('delta')\\\n",
    "            .mode('overwrite')\\\n",
    "            .option('overwriteSchema','true')\\\n",
    "            .saveAsTable(f\"adventureworks.gold.{table_name}\")"
   ]
  },
  {
   "cell_type": "code",
   "execution_count": 0,
   "metadata": {
    "application/vnd.databricks.v1+cell": {
     "cellMetadata": {
      "byteLimit": 2048000,
      "rowLimit": 10000
     },
     "inputWidgets": {},
     "nuid": "7808267c-b2eb-4b5b-be23-2c3064a349a1",
     "showTitle": false,
     "tableResultSettingsMap": {},
     "title": ""
    }
   },
   "outputs": [],
   "source": [
    "write_to_gold_tables(df_product,'gold_product')\n",
    "write_to_gold_tables(df_region,'gold_region')\n",
    "write_to_gold_tables(df_reseller,'gold_reseller')\n",
    "write_to_gold_tables(df_sales,'gold_sales')\n",
    "write_to_gold_tables(df_salesperson,'gold_salesperson')\n",
    "write_to_gold_tables(df_salespersonregion,'gold_salespersonregion')\n",
    "write_to_gold_tables(df_targets,'gold_targets')"
   ]
  },
  {
   "cell_type": "markdown",
   "metadata": {
    "application/vnd.databricks.v1+cell": {
     "cellMetadata": {
      "byteLimit": 2048000,
      "rowLimit": 10000
     },
     "inputWidgets": {},
     "nuid": "5b6ea99c-065c-43de-9f26-670608724042",
     "showTitle": false,
     "tableResultSettingsMap": {},
     "title": ""
    }
   },
   "source": [
    "### Writing all the files in Delta Format to Gold Container in ADLS"
   ]
  },
  {
   "cell_type": "code",
   "execution_count": 0,
   "metadata": {
    "application/vnd.databricks.v1+cell": {
     "cellMetadata": {
      "byteLimit": 2048000,
      "rowLimit": 10000
     },
     "inputWidgets": {},
     "nuid": "a38db10b-bea7-4840-bf5d-2a0401331d80",
     "showTitle": false,
     "tableResultSettingsMap": {},
     "title": ""
    }
   },
   "outputs": [],
   "source": [
    "gold_path = 'abfss://gold@adventureworksdls001.dfs.core.windows.net/'\n",
    "\n",
    "df_product.write.format('delta').mode('overwrite').option('overwriteSchema','true').save(f\"{gold_path}product\")\n",
    "df_region.write.format('delta').mode('overwrite').option('overwriteSchema','true').save(f\"{gold_path}region\")\n",
    "df_reseller.write.format('delta').mode('overwrite').option('overwriteSchema','true').save(f\"{gold_path}reseller\")\n",
    "df_sales.write.format('delta').mode('overwrite').option('overwriteSchema','true').save(f\"{gold_path}sales\")\n",
    "df_salesperson.write.format('delta').mode('overwrite').option('overwriteSchema','true').save(f\"{gold_path}salesperson\")\n",
    "df_salespersonregion.write.format('delta').mode('overwrite').option('overwriteSchema','true').save(f\"{gold_path}salespersonregion\")\n",
    "df_targets.write.format('delta').mode('overwrite').option('overwriteSchema','true').save(f\"{gold_path}targets\")"
   ]
  }
 ],
 "metadata": {
  "application/vnd.databricks.v1+notebook": {
   "computePreferences": null,
   "dashboards": [],
   "environmentMetadata": {
    "base_environment": "",
    "environment_version": "4"
   },
   "inputWidgetPreferences": null,
   "language": "python",
   "notebookMetadata": {
    "mostRecentlyExecutedCommandWithImplicitDF": {
     "commandId": 4725452652544369,
     "dataframes": [
      "_sqldf"
     ]
    },
    "pythonIndentUnit": 4
   },
   "notebookName": "3. Data Transformation in Gold Layer",
   "widgets": {}
  },
  "language_info": {
   "name": "python"
  }
 },
 "nbformat": 4,
 "nbformat_minor": 0
}