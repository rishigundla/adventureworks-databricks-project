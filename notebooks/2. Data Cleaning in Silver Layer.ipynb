{
 "cells": [
  {
   "cell_type": "code",
   "execution_count": 0,
   "metadata": {
    "application/vnd.databricks.v1+cell": {
     "cellMetadata": {
      "byteLimit": 2048000,
      "rowLimit": 10000
     },
     "inputWidgets": {},
     "nuid": "290fc2b0-38e6-4b48-b1b4-154bda71bc3c",
     "showTitle": false,
     "tableResultSettingsMap": {},
     "title": ""
    }
   },
   "outputs": [],
   "source": [
    "from pyspark.sql.functions import *\n",
    "from pyspark.sql.types import *"
   ]
  },
  {
   "cell_type": "code",
   "execution_count": 0,
   "metadata": {
    "application/vnd.databricks.v1+cell": {
     "cellMetadata": {
      "byteLimit": 2048000,
      "implicitDf": true,
      "rowLimit": 10000
     },
     "inputWidgets": {},
     "nuid": "f09b13d0-7d66-4204-bc93-276cc0545d33",
     "showTitle": false,
     "tableResultSettingsMap": {},
     "title": ""
    }
   },
   "outputs": [
    {
     "output_type": "display_data",
     "data": {
      "application/vnd.databricks.empty-table+json": {
       "directive_name": "NoDirective"
      }
     },
     "metadata": {},
     "output_type": "display_data"
    }
   ],
   "source": [
    "%sql\n",
    "USE CATALOG adventureworks;\n",
    "USE SCHEMA silver;"
   ]
  },
  {
   "cell_type": "code",
   "execution_count": 0,
   "metadata": {
    "application/vnd.databricks.v1+cell": {
     "cellMetadata": {
      "byteLimit": 2048000,
      "rowLimit": 10000
     },
     "inputWidgets": {},
     "nuid": "59ce9672-e291-49d0-b2da-f98ee69acc03",
     "showTitle": false,
     "tableResultSettingsMap": {},
     "title": ""
    }
   },
   "outputs": [],
   "source": [
    "df_product = spark.table(\"adventureworks.bronze.bronze_product\")\n",
    "df_region = spark.table(\"adventureworks.bronze.bronze_region\")\n",
    "df_reseller = spark.table(\"adventureworks.bronze.bronze_reseller\")\n",
    "df_sales = spark.table(\"adventureworks.bronze.bronze_sales\")\n",
    "df_salesperson = spark.table(\"adventureworks.bronze.bronze_salesperson\")\n",
    "df_salespersonregion = spark.table(\"adventureworks.bronze.bronze_salespersonregion\")\n",
    "df_targets = spark.table(\"adventureworks.bronze.bronze_targets\")"
   ]
  },
  {
   "cell_type": "markdown",
   "metadata": {
    "application/vnd.databricks.v1+cell": {
     "cellMetadata": {
      "byteLimit": 2048000,
      "rowLimit": 10000
     },
     "inputWidgets": {},
     "nuid": "92f97112-4edd-417c-aa69-d0078ac1fe1a",
     "showTitle": false,
     "tableResultSettingsMap": {},
     "title": ""
    }
   },
   "source": [
    "### Cleaning bronze_product"
   ]
  },
  {
   "cell_type": "code",
   "execution_count": 0,
   "metadata": {
    "application/vnd.databricks.v1+cell": {
     "cellMetadata": {
      "byteLimit": 2048000,
      "rowLimit": 10000
     },
     "inputWidgets": {},
     "nuid": "b7950c7c-c8de-4030-8071-9a86f380779e",
     "showTitle": false,
     "tableResultSettingsMap": {},
     "title": ""
    }
   },
   "outputs": [],
   "source": [
    "df_product = df_product.withColumn(\"standard_cost\", \n",
    "                                   regexp_replace(regexp_replace(col(\"standard_cost\"), \"\\\\$\", \"\"), \n",
    "                                       \",\", \"\"\n",
    "                                       ).cast(\"double\"))"
   ]
  },
  {
   "cell_type": "code",
   "execution_count": 0,
   "metadata": {
    "application/vnd.databricks.v1+cell": {
     "cellMetadata": {
      "byteLimit": 2048000,
      "rowLimit": 10000
     },
     "inputWidgets": {},
     "nuid": "1d4c918c-aaae-42e2-b81d-938c5d83fa2e",
     "showTitle": false,
     "tableResultSettingsMap": {},
     "title": ""
    }
   },
   "outputs": [],
   "source": [
    "df_product = df_product.drop(\"background_color_format\", \"font_color_format\")"
   ]
  },
  {
   "cell_type": "markdown",
   "metadata": {
    "application/vnd.databricks.v1+cell": {
     "cellMetadata": {
      "byteLimit": 2048000,
      "rowLimit": 10000
     },
     "inputWidgets": {},
     "nuid": "ca05c5bb-a22c-4885-aed9-085b1e9fdf7a",
     "showTitle": false,
     "tableResultSettingsMap": {},
     "title": ""
    }
   },
   "source": [
    "### Cleaning bronze_sales"
   ]
  },
  {
   "cell_type": "code",
   "execution_count": 0,
   "metadata": {
    "application/vnd.databricks.v1+cell": {
     "cellMetadata": {
      "byteLimit": 2048000,
      "rowLimit": 10000
     },
     "inputWidgets": {},
     "nuid": "04fee0fc-a429-4279-bbd6-31ec77ca3f1e",
     "showTitle": false,
     "tableResultSettingsMap": {},
     "title": ""
    }
   },
   "outputs": [],
   "source": [
    "df_sales = df_sales.withColumn(\n",
    "    \"order_date_clean\",\n",
    "    trim(\n",
    "        regexp_extract(col(\"order_date\"), r\"([A-Za-z]+ \\d{1,2}, \\d{4})\", 1)\n",
    "    )\n",
    ")"
   ]
  },
  {
   "cell_type": "code",
   "execution_count": 0,
   "metadata": {
    "application/vnd.databricks.v1+cell": {
     "cellMetadata": {
      "byteLimit": 2048000,
      "rowLimit": 10000
     },
     "inputWidgets": {},
     "nuid": "f8845482-f135-479d-bfb6-c79ec7ba6ee8",
     "showTitle": false,
     "tableResultSettingsMap": {},
     "title": ""
    }
   },
   "outputs": [],
   "source": [
    "df_sales = df_sales.withColumn(\"order_date_clean\", try_to_date(col(\"order_date_clean\"), 'MMMM d, yyyy'))"
   ]
  },
  {
   "cell_type": "code",
   "execution_count": 0,
   "metadata": {
    "application/vnd.databricks.v1+cell": {
     "cellMetadata": {
      "byteLimit": 2048000,
      "rowLimit": 10000
     },
     "inputWidgets": {},
     "nuid": "86e43f05-5e0d-484b-a19f-7405fbdb7bdb",
     "showTitle": false,
     "tableResultSettingsMap": {},
     "title": ""
    }
   },
   "outputs": [],
   "source": [
    "df_sales = df_sales.drop(\"order_date\")"
   ]
  },
  {
   "cell_type": "code",
   "execution_count": 0,
   "metadata": {
    "application/vnd.databricks.v1+cell": {
     "cellMetadata": {
      "byteLimit": 2048000,
      "rowLimit": 10000
     },
     "inputWidgets": {},
     "nuid": "6e72f862-40b8-4b1d-a61f-c0cdc73aa780",
     "showTitle": false,
     "tableResultSettingsMap": {},
     "title": ""
    }
   },
   "outputs": [],
   "source": [
    "df_sales = df_sales.withColumnRenamed(\"order_date_clean\", \"order_date\")"
   ]
  },
  {
   "cell_type": "code",
   "execution_count": 0,
   "metadata": {
    "application/vnd.databricks.v1+cell": {
     "cellMetadata": {
      "byteLimit": 2048000,
      "rowLimit": 10000
     },
     "inputWidgets": {},
     "nuid": "5a77d488-c33f-4feb-8b44-8267746b146e",
     "showTitle": false,
     "tableResultSettingsMap": {},
     "title": ""
    }
   },
   "outputs": [],
   "source": [
    "df_sales = df_sales.withColumn(\"unit_price\", \n",
    "                                   regexp_replace(regexp_replace(col(\"unit_price\"), \"\\\\$\", \"\"), \n",
    "                                       \",\", \"\"\n",
    "                                       ).cast(\"double\"))\\\n",
    "                    .withColumn(\"sales\", \n",
    "                                   regexp_replace(regexp_replace(col(\"sales\"), \"\\\\$\", \"\"), \n",
    "                                       \",\", \"\"\n",
    "                                       ).cast(\"double\"))\\\n",
    "                    .withColumn(\"cost\", \n",
    "                                   regexp_replace(regexp_replace(col(\"cost\"), \"\\\\$\", \"\"), \n",
    "                                       \",\", \"\"\n",
    "                                       ).cast(\"double\"))"
   ]
  },
  {
   "cell_type": "markdown",
   "metadata": {
    "application/vnd.databricks.v1+cell": {
     "cellMetadata": {
      "byteLimit": 2048000,
      "rowLimit": 10000
     },
     "inputWidgets": {},
     "nuid": "fa14abac-116f-4056-a732-4e72f7624d07",
     "showTitle": false,
     "tableResultSettingsMap": {},
     "title": ""
    }
   },
   "source": [
    "### Cleaning bronze_targets"
   ]
  },
  {
   "cell_type": "code",
   "execution_count": 0,
   "metadata": {
    "application/vnd.databricks.v1+cell": {
     "cellMetadata": {
      "byteLimit": 2048000,
      "rowLimit": 10000
     },
     "inputWidgets": {},
     "nuid": "ed7b0007-aa4d-42c8-a8bb-3eca09f30d70",
     "showTitle": false,
     "tableResultSettingsMap": {},
     "title": ""
    }
   },
   "outputs": [],
   "source": [
    "df_targets = df_targets.withColumn(\"target\", \n",
    "                                   regexp_replace(regexp_replace(col(\"target\"), \"\\\\$\", \"\"), \n",
    "                                       \",\", \"\"\n",
    "                                       ).cast(\"double\"))"
   ]
  },
  {
   "cell_type": "code",
   "execution_count": 0,
   "metadata": {
    "application/vnd.databricks.v1+cell": {
     "cellMetadata": {
      "byteLimit": 2048000,
      "rowLimit": 10000
     },
     "inputWidgets": {},
     "nuid": "99ed5b2b-ad6a-414b-832e-5f9e05d33631",
     "showTitle": false,
     "tableResultSettingsMap": {},
     "title": ""
    }
   },
   "outputs": [],
   "source": [
    "df_targets = df_targets.withColumn(\n",
    "    \"target_month_cleaned\",\n",
    "    trim(\n",
    "        regexp_extract(col(\"target_month\"), r\"([A-Za-z]+ \\d{1,2}, \\d{4})\", 1)\n",
    "    )\n",
    ")"
   ]
  },
  {
   "cell_type": "code",
   "execution_count": 0,
   "metadata": {
    "application/vnd.databricks.v1+cell": {
     "cellMetadata": {
      "byteLimit": 2048000,
      "rowLimit": 10000
     },
     "inputWidgets": {},
     "nuid": "b5dbbbc1-3e25-4275-bcc0-6dfe81f2d8c3",
     "showTitle": false,
     "tableResultSettingsMap": {},
     "title": ""
    }
   },
   "outputs": [],
   "source": [
    "df_targets = df_targets.withColumn(\"target_month_cleaned\", try_to_date(col(\"target_month_cleaned\"), 'MMMM d, yyyy'))"
   ]
  },
  {
   "cell_type": "code",
   "execution_count": 0,
   "metadata": {
    "application/vnd.databricks.v1+cell": {
     "cellMetadata": {
      "byteLimit": 2048000,
      "rowLimit": 10000
     },
     "inputWidgets": {},
     "nuid": "adfba46f-728b-4281-b716-070f7659dcee",
     "showTitle": false,
     "tableResultSettingsMap": {},
     "title": ""
    }
   },
   "outputs": [],
   "source": [
    "df_targets = df_targets.drop(\"target_month\")"
   ]
  },
  {
   "cell_type": "code",
   "execution_count": 0,
   "metadata": {
    "application/vnd.databricks.v1+cell": {
     "cellMetadata": {
      "byteLimit": 2048000,
      "rowLimit": 10000
     },
     "inputWidgets": {},
     "nuid": "ead46541-a38c-455e-8c16-7d8196d2ef5f",
     "showTitle": false,
     "tableResultSettingsMap": {},
     "title": ""
    }
   },
   "outputs": [],
   "source": [
    "df_targets = df_targets.withColumnRenamed(\"target_month_cleaned\", \"target_month\")"
   ]
  },
  {
   "cell_type": "markdown",
   "metadata": {
    "application/vnd.databricks.v1+cell": {
     "cellMetadata": {
      "byteLimit": 2048000,
      "rowLimit": 10000
     },
     "inputWidgets": {},
     "nuid": "bb531a8a-2506-4981-ab47-033085afb301",
     "showTitle": false,
     "tableResultSettingsMap": {},
     "title": ""
    }
   },
   "source": [
    "### Writing all the files to Silver Layer"
   ]
  },
  {
   "cell_type": "code",
   "execution_count": 0,
   "metadata": {
    "application/vnd.databricks.v1+cell": {
     "cellMetadata": {
      "byteLimit": 2048000,
      "rowLimit": 10000
     },
     "inputWidgets": {},
     "nuid": "8842ca94-0af9-48e3-b058-7083fa43f34c",
     "showTitle": false,
     "tableResultSettingsMap": {},
     "title": ""
    }
   },
   "outputs": [],
   "source": [
    "def write_to_silver_tables(df,table_name):\n",
    "    df.write.format('delta')\\\n",
    "            .mode('overwrite')\\\n",
    "            .option('overwriteSchema','true')\\\n",
    "            .saveAsTable(f\"adventureworks.silver.{table_name}\")"
   ]
  },
  {
   "cell_type": "code",
   "execution_count": 0,
   "metadata": {
    "application/vnd.databricks.v1+cell": {
     "cellMetadata": {
      "byteLimit": 2048000,
      "rowLimit": 10000
     },
     "inputWidgets": {},
     "nuid": "595b15ee-360a-477e-8ff8-584078d44c4d",
     "showTitle": false,
     "tableResultSettingsMap": {},
     "title": ""
    }
   },
   "outputs": [],
   "source": [
    "write_to_silver_tables(df_product,'silver_product')\n",
    "write_to_silver_tables(df_region,'silver_region')\n",
    "write_to_silver_tables(df_reseller,'silver_reseller')\n",
    "write_to_silver_tables(df_sales,'silver_sales')\n",
    "write_to_silver_tables(df_salesperson,'silver_salesperson')\n",
    "write_to_silver_tables(df_salespersonregion,'silver_salespersonregion')\n",
    "write_to_silver_tables(df_targets,'silver_targets')"
   ]
  },
  {
   "cell_type": "markdown",
   "metadata": {
    "application/vnd.databricks.v1+cell": {
     "cellMetadata": {
      "byteLimit": 2048000,
      "rowLimit": 10000
     },
     "inputWidgets": {},
     "nuid": "f4f9333d-6784-4a41-98c5-8708e2c24eb3",
     "showTitle": false,
     "tableResultSettingsMap": {},
     "title": ""
    }
   },
   "source": [
    "### Writing all the files in Delta Format to Silver Container in ADLS"
   ]
  },
  {
   "cell_type": "code",
   "execution_count": 0,
   "metadata": {
    "application/vnd.databricks.v1+cell": {
     "cellMetadata": {
      "byteLimit": 2048000,
      "rowLimit": 10000
     },
     "inputWidgets": {},
     "nuid": "47a1a6b2-5df0-4709-afa2-fa1de90a80d1",
     "showTitle": false,
     "tableResultSettingsMap": {},
     "title": ""
    }
   },
   "outputs": [],
   "source": [
    "silver_path = 'abfss://silver@adventureworksdls001.dfs.core.windows.net/'\n",
    "\n",
    "df_product.write.format('delta').mode('overwrite').option('overwriteSchema','true').save(f\"{silver_path}product\")\n",
    "df_region.write.format('delta').mode('overwrite').option('overwriteSchema','true').save(f\"{silver_path}region\")\n",
    "df_reseller.write.format('delta').mode('overwrite').option('overwriteSchema','true').save(f\"{silver_path}reseller\")\n",
    "df_sales.write.format('delta').mode('overwrite').option('overwriteSchema','true').save(f\"{silver_path}sales\")\n",
    "df_salesperson.write.format('delta').mode('overwrite').option('overwriteSchema','true').save(f\"{silver_path}salesperson\")\n",
    "df_salespersonregion.write.format('delta').mode('overwrite').option('overwriteSchema','true').save(f\"{silver_path}salespersonregion\")\n",
    "df_targets.write.format('delta').mode('overwrite').option('overwriteSchema','true').save(f\"{silver_path}targets\")"
   ]
  }
 ],
 "metadata": {
  "application/vnd.databricks.v1+notebook": {
   "computePreferences": null,
   "dashboards": [],
   "environmentMetadata": {
    "base_environment": "",
    "environment_version": "4"
   },
   "inputWidgetPreferences": null,
   "language": "python",
   "notebookMetadata": {
    "mostRecentlyExecutedCommandWithImplicitDF": {
     "commandId": 4725452652544265,
     "dataframes": [
      "_sqldf"
     ]
    },
    "pythonIndentUnit": 4
   },
   "notebookName": "2. Data Cleaning in Silver Layer",
   "widgets": {}
  },
  "language_info": {
   "name": "python"
  }
 },
 "nbformat": 4,
 "nbformat_minor": 0
}