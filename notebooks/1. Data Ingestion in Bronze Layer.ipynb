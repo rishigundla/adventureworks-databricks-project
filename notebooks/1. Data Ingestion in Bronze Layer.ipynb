{
 "cells": [
  {
   "cell_type": "code",
   "execution_count": 0,
   "metadata": {
    "application/vnd.databricks.v1+cell": {
     "cellMetadata": {
      "byteLimit": 2048000,
      "rowLimit": 10000
     },
     "inputWidgets": {},
     "nuid": "ba08caf1-758b-43dc-8923-7c5842eb4a3c",
     "showTitle": false,
     "tableResultSettingsMap": {},
     "title": ""
    }
   },
   "outputs": [],
   "source": [
    "from pyspark.sql.functions import *\n",
    "from pyspark.sql.types import *"
   ]
  },
  {
   "cell_type": "code",
   "execution_count": 0,
   "metadata": {
    "application/vnd.databricks.v1+cell": {
     "cellMetadata": {
      "byteLimit": 2048000,
      "implicitDf": true,
      "rowLimit": 10000
     },
     "inputWidgets": {},
     "nuid": "565cb9f8-a2d9-47ed-9afe-cf42a3224e6e",
     "showTitle": false,
     "tableResultSettingsMap": {},
     "title": ""
    }
   },
   "outputs": [
    {
     "output_type": "display_data",
     "data": {
      "application/vnd.databricks.empty-table+json": {
       "directive_name": "NoDirective"
      }
     },
     "metadata": {},
     "output_type": "display_data"
    }
   ],
   "source": [
    "%sql\n",
    "USE CATALOG adventureworks;\n",
    "USE SCHEMA bronze;"
   ]
  },
  {
   "cell_type": "markdown",
   "metadata": {
    "application/vnd.databricks.v1+cell": {
     "cellMetadata": {
      "byteLimit": 2048000,
      "rowLimit": 10000
     },
     "inputWidgets": {},
     "nuid": "23ce768a-937e-4139-ac8b-ee29bdfece18",
     "showTitle": false,
     "tableResultSettingsMap": {},
     "title": ""
    }
   },
   "source": [
    "### Reading Product.csv"
   ]
  },
  {
   "cell_type": "code",
   "execution_count": 0,
   "metadata": {
    "application/vnd.databricks.v1+cell": {
     "cellMetadata": {
      "byteLimit": 2048000,
      "rowLimit": 10000
     },
     "inputWidgets": {},
     "nuid": "825e5111-eb01-44b3-a99e-4b360daeda38",
     "showTitle": false,
     "tableResultSettingsMap": {},
     "title": ""
    }
   },
   "outputs": [],
   "source": [
    "product_schema = \"\"\"\n",
    "ProductKey INT,\n",
    "Product STRING,\n",
    "`Standard Cost` STRING,\n",
    "Color STRING,\n",
    "Subcategory STRING,\n",
    "Category STRING,\n",
    "`Background Color Format` STRING,\n",
    "`Font Color Format` STRING\n",
    "\"\"\""
   ]
  },
  {
   "cell_type": "code",
   "execution_count": 0,
   "metadata": {
    "application/vnd.databricks.v1+cell": {
     "cellMetadata": {
      "byteLimit": 2048000,
      "rowLimit": 10000
     },
     "inputWidgets": {},
     "nuid": "5c7be5fe-f323-49fc-ab1c-090cae5b8aa5",
     "showTitle": false,
     "tableResultSettingsMap": {},
     "title": ""
    }
   },
   "outputs": [],
   "source": [
    "df_product = spark.read.format(\"csv\")\\\n",
    "                        .option(\"header\", \"true\")\\\n",
    "                        .schema(product_schema)\\\n",
    "                        .option(\"delimiter\", \"\\t\")\\\n",
    "                        .load(\"abfss://bronze@adventureworksdls001.dfs.core.windows.net/Product.csv\")\n"
   ]
  },
  {
   "cell_type": "code",
   "execution_count": 0,
   "metadata": {
    "application/vnd.databricks.v1+cell": {
     "cellMetadata": {
      "byteLimit": 2048000,
      "rowLimit": 10000
     },
     "inputWidgets": {},
     "nuid": "c855239a-534f-455f-bfe2-578cc2ab1be9",
     "showTitle": false,
     "tableResultSettingsMap": {},
     "title": ""
    }
   },
   "outputs": [],
   "source": [
    "df_product = df_product.withColumnRenamed(\"ProductKey\", \"product_key\")\\\n",
    "                        .withColumnRenamed(\"Product\", \"product\")\\\n",
    "                        .withColumnRenamed(\"Standard Cost\", \"standard_cost\")\\\n",
    "                        .withColumnRenamed(\"Color\", \"color\")\\\n",
    "                        .withColumnRenamed(\"Subcategory\", \"subcategory\")\\\n",
    "                        .withColumnRenamed(\"Category\", \"category\")\\\n",
    "                        .withColumnRenamed(\"Background Color Format\", \"background_color_format\")\\\n",
    "                        .withColumnRenamed(\"Font Color Format\", \"font_color_format\")"
   ]
  },
  {
   "cell_type": "markdown",
   "metadata": {
    "application/vnd.databricks.v1+cell": {
     "cellMetadata": {
      "byteLimit": 2048000,
      "rowLimit": 10000
     },
     "inputWidgets": {},
     "nuid": "b6b67a51-34f2-44af-8b4a-4662881817ce",
     "showTitle": false,
     "tableResultSettingsMap": {},
     "title": ""
    }
   },
   "source": [
    "### Reading Region.csv"
   ]
  },
  {
   "cell_type": "code",
   "execution_count": 0,
   "metadata": {
    "application/vnd.databricks.v1+cell": {
     "cellMetadata": {
      "byteLimit": 2048000,
      "rowLimit": 10000
     },
     "inputWidgets": {},
     "nuid": "27c4c1e4-9a63-4d27-a0f8-5f3eb49635ef",
     "showTitle": false,
     "tableResultSettingsMap": {},
     "title": ""
    }
   },
   "outputs": [],
   "source": [
    "region_schema = \"\"\"\n",
    "SalesTerritoryKey INT,\n",
    "Region STRING,\n",
    "Country STRING,\n",
    "Group STRING\n",
    "\"\"\""
   ]
  },
  {
   "cell_type": "code",
   "execution_count": 0,
   "metadata": {
    "application/vnd.databricks.v1+cell": {
     "cellMetadata": {
      "byteLimit": 2048000,
      "rowLimit": 10000
     },
     "inputWidgets": {},
     "nuid": "ca5f3469-b1aa-4753-939b-ffcd2ed7c9aa",
     "showTitle": false,
     "tableResultSettingsMap": {},
     "title": ""
    }
   },
   "outputs": [],
   "source": [
    "df_region = spark.read.format(\"csv\")\\\n",
    "                        .option(\"header\", \"true\")\\\n",
    "                        .schema(region_schema)\\\n",
    "                        .option(\"delimiter\", \"\\t\")\\\n",
    "                        .load(\"abfss://bronze@adventureworksdls001.dfs.core.windows.net/Region.csv\")"
   ]
  },
  {
   "cell_type": "code",
   "execution_count": 0,
   "metadata": {
    "application/vnd.databricks.v1+cell": {
     "cellMetadata": {
      "byteLimit": 2048000,
      "rowLimit": 10000
     },
     "inputWidgets": {},
     "nuid": "3f7b0e8b-5386-4aa8-9789-d595a60e1325",
     "showTitle": false,
     "tableResultSettingsMap": {},
     "title": ""
    }
   },
   "outputs": [],
   "source": [
    "df_region = df_region.withColumnRenamed(\"SalesTerritoryKey\", \"sales_territory_key\")\\\n",
    "                        .withColumnRenamed(\"Region\", \"region\")\\\n",
    "                        .withColumnRenamed(\"Country\", \"country\")\\\n",
    "                        .withColumnRenamed(\"Group\", \"continent\")"
   ]
  },
  {
   "cell_type": "markdown",
   "metadata": {
    "application/vnd.databricks.v1+cell": {
     "cellMetadata": {
      "byteLimit": 2048000,
      "rowLimit": 10000
     },
     "inputWidgets": {},
     "nuid": "64c2b02b-e415-40a4-945a-05cbd4ef4aac",
     "showTitle": false,
     "tableResultSettingsMap": {},
     "title": ""
    }
   },
   "source": [
    "### Reading Reseller.csv"
   ]
  },
  {
   "cell_type": "code",
   "execution_count": 0,
   "metadata": {
    "application/vnd.databricks.v1+cell": {
     "cellMetadata": {
      "byteLimit": 2048000,
      "rowLimit": 10000
     },
     "inputWidgets": {},
     "nuid": "f667aba3-61cf-467f-8a79-210da93da472",
     "showTitle": false,
     "tableResultSettingsMap": {},
     "title": ""
    }
   },
   "outputs": [],
   "source": [
    "reseller_schema = \"\"\"\n",
    "ResellerKey INT,\n",
    "`Business Type` STRING,\n",
    "Reseller STRING,\n",
    "City STRING,\n",
    "`State-Province` STRING,\n",
    "`Country-Region` STRING\n",
    "\"\"\""
   ]
  },
  {
   "cell_type": "code",
   "execution_count": 0,
   "metadata": {
    "application/vnd.databricks.v1+cell": {
     "cellMetadata": {
      "byteLimit": 2048000,
      "rowLimit": 10000
     },
     "inputWidgets": {},
     "nuid": "89b477c5-7cbe-4dd2-a469-ef106246c42d",
     "showTitle": false,
     "tableResultSettingsMap": {},
     "title": ""
    }
   },
   "outputs": [],
   "source": [
    "df_reseller = spark.read.format(\"csv\")\\\n",
    "                        .option(\"header\", \"true\")\\\n",
    "                        .schema(reseller_schema)\\\n",
    "                        .option(\"delimiter\", \"\\t\")\\\n",
    "                        .load(\"abfss://bronze@adventureworksdls001.dfs.core.windows.net/Reseller.csv\")"
   ]
  },
  {
   "cell_type": "code",
   "execution_count": 0,
   "metadata": {
    "application/vnd.databricks.v1+cell": {
     "cellMetadata": {
      "byteLimit": 2048000,
      "rowLimit": 10000
     },
     "inputWidgets": {},
     "nuid": "a7417fd8-d9ff-4ce3-ac77-ae746fd015e2",
     "showTitle": false,
     "tableResultSettingsMap": {},
     "title": ""
    }
   },
   "outputs": [],
   "source": [
    "df_reseller = df_reseller.withColumnRenamed(\"ResellerKey\", \"reseller_key\")\\\n",
    "                        .withColumnRenamed(\"Business Type\", \"business_type\")\\\n",
    "                        .withColumnRenamed(\"Reseller\", \"reseller\")\\\n",
    "                        .withColumnRenamed(\"City\", \"city\")\\\n",
    "                        .withColumnRenamed(\"State-Province\", \"state_province\")\\\n",
    "                        .withColumnRenamed(\"Country-Region\", \"country\")"
   ]
  },
  {
   "cell_type": "markdown",
   "metadata": {
    "application/vnd.databricks.v1+cell": {
     "cellMetadata": {
      "byteLimit": 2048000,
      "rowLimit": 10000
     },
     "inputWidgets": {},
     "nuid": "cfa54841-f5b1-449d-8519-03e87710e77c",
     "showTitle": false,
     "tableResultSettingsMap": {},
     "title": ""
    }
   },
   "source": [
    "### Reading Sales.csv"
   ]
  },
  {
   "cell_type": "code",
   "execution_count": 0,
   "metadata": {
    "application/vnd.databricks.v1+cell": {
     "cellMetadata": {
      "byteLimit": 2048000,
      "rowLimit": 10000
     },
     "inputWidgets": {},
     "nuid": "3a52151d-d906-4fd2-bd6c-b25791dc9f8a",
     "showTitle": false,
     "tableResultSettingsMap": {},
     "title": ""
    }
   },
   "outputs": [],
   "source": [
    "df_sales= spark.read.format(\"csv\")\\\n",
    "                        .option(\"header\", \"true\")\\\n",
    "                        .option(\"inferSchema\", \"true\")\\\n",
    "                        .option(\"delimiter\", \"\\t\")\\\n",
    "                        .load(\"abfss://bronze@adventureworksdls001.dfs.core.windows.net/Sales.csv\")"
   ]
  },
  {
   "cell_type": "code",
   "execution_count": 0,
   "metadata": {
    "application/vnd.databricks.v1+cell": {
     "cellMetadata": {
      "byteLimit": 2048000,
      "rowLimit": 10000
     },
     "inputWidgets": {},
     "nuid": "de3cf63b-afb3-4951-8970-27245a56f7a6",
     "showTitle": false,
     "tableResultSettingsMap": {},
     "title": ""
    }
   },
   "outputs": [],
   "source": [
    "df_sales = df_sales.withColumnRenamed(\"SalesOrderNumber\", \"sales_order_number\")\\\n",
    "                        .withColumnRenamed(\"OrderDate\", \"order_date\")\\\n",
    "                        .withColumnRenamed(\"ProductKey\", \"product_key\")\\\n",
    "                        .withColumnRenamed(\"ResellerKey\", \"reseller_key\")\\\n",
    "                        .withColumnRenamed(\"EmployeeKey\", \"employee_key\")\\\n",
    "                        .withColumnRenamed(\"SalesTerritoryKey\", \"sales_territory_key\")\\\n",
    "                        .withColumnRenamed(\"Quantity\", \"quantity\")\\\n",
    "                        .withColumnRenamed(\"Unit Price\", \"unit_price\")\\\n",
    "                        .withColumnRenamed(\"Sales\", \"sales\")\\\n",
    "                        .withColumnRenamed(\"Cost\", \"cost\")"
   ]
  },
  {
   "cell_type": "code",
   "execution_count": 0,
   "metadata": {
    "application/vnd.databricks.v1+cell": {
     "cellMetadata": {
      "byteLimit": 2048000,
      "rowLimit": 10000
     },
     "inputWidgets": {},
     "nuid": "fff83eaa-7e5b-4c13-98fd-b45f8962b122",
     "showTitle": false,
     "tableResultSettingsMap": {},
     "title": ""
    }
   },
   "outputs": [],
   "source": [
    "df_sales = df_sales.withColumn(\"product_key\", col(\"product_key\").cast(\"int\"))\\\n",
    "                   .withColumn(\"reseller_key\", col(\"reseller_key\").cast(\"int\"))\\\n",
    "                   .withColumn(\"employee_key\", col(\"employee_key\").cast(\"int\"))\\\n",
    "                   .withColumn(\"sales_territory_key\", col(\"sales_territory_key\").cast(\"int\"))\\\n",
    "                   .withColumn(\"quantity\", col(\"quantity\").cast(\"int\"))"
   ]
  },
  {
   "cell_type": "markdown",
   "metadata": {
    "application/vnd.databricks.v1+cell": {
     "cellMetadata": {
      "byteLimit": 2048000,
      "rowLimit": 10000
     },
     "inputWidgets": {},
     "nuid": "ee85484c-637a-4890-a760-d4878ae78648",
     "showTitle": false,
     "tableResultSettingsMap": {},
     "title": ""
    }
   },
   "source": [
    "### Reading Salesperson.csv"
   ]
  },
  {
   "cell_type": "code",
   "execution_count": 0,
   "metadata": {
    "application/vnd.databricks.v1+cell": {
     "cellMetadata": {
      "byteLimit": 2048000,
      "rowLimit": 10000
     },
     "inputWidgets": {},
     "nuid": "99093df2-a87b-4d47-a4aa-00e272f381f2",
     "showTitle": false,
     "tableResultSettingsMap": {},
     "title": ""
    }
   },
   "outputs": [],
   "source": [
    "salesperson_schema = \"\"\"\n",
    "EmployeeKey INT,\n",
    "EmployeeID INT,\n",
    "Salesperson STRING,\n",
    "Title STRING,\n",
    "UPN STRING\n",
    "\"\"\""
   ]
  },
  {
   "cell_type": "code",
   "execution_count": 0,
   "metadata": {
    "application/vnd.databricks.v1+cell": {
     "cellMetadata": {
      "byteLimit": 2048000,
      "rowLimit": 10000
     },
     "inputWidgets": {},
     "nuid": "62c85a3d-793c-48b1-9003-79b78d91a748",
     "showTitle": false,
     "tableResultSettingsMap": {},
     "title": ""
    }
   },
   "outputs": [],
   "source": [
    "df_salesperson = spark.read.format(\"csv\")\\\n",
    "                        .option(\"header\", \"true\")\\\n",
    "                        .schema(salesperson_schema)\\\n",
    "                        .option(\"delimiter\", \"\\t\")\\\n",
    "                        .load(\"abfss://bronze@adventureworksdls001.dfs.core.windows.net/Salesperson.csv\")"
   ]
  },
  {
   "cell_type": "code",
   "execution_count": 0,
   "metadata": {
    "application/vnd.databricks.v1+cell": {
     "cellMetadata": {
      "byteLimit": 2048000,
      "rowLimit": 10000
     },
     "inputWidgets": {},
     "nuid": "78909d1a-1407-4f80-ad57-f71d1244bc8e",
     "showTitle": false,
     "tableResultSettingsMap": {},
     "title": ""
    }
   },
   "outputs": [],
   "source": [
    "df_salesperson = df_salesperson.withColumnRenamed(\"EmployeeKey\", \"employee_key\")\\\n",
    "                        .withColumnRenamed(\"EmployeeID\", \"employee_id\")\\\n",
    "                        .withColumnRenamed(\"Salesperson\", \"salesperson\")\\\n",
    "                        .withColumnRenamed(\"Title\", \"title\")\\\n",
    "                        .withColumnRenamed(\"UPN\", \"email\")"
   ]
  },
  {
   "cell_type": "markdown",
   "metadata": {
    "application/vnd.databricks.v1+cell": {
     "cellMetadata": {
      "byteLimit": 2048000,
      "rowLimit": 10000
     },
     "inputWidgets": {},
     "nuid": "7bda8583-93fb-4a34-9cd4-0995473a0e62",
     "showTitle": false,
     "tableResultSettingsMap": {},
     "title": ""
    }
   },
   "source": [
    "### Reading SalespersonRegion.csv"
   ]
  },
  {
   "cell_type": "code",
   "execution_count": 0,
   "metadata": {
    "application/vnd.databricks.v1+cell": {
     "cellMetadata": {
      "byteLimit": 2048000,
      "rowLimit": 10000
     },
     "inputWidgets": {},
     "nuid": "d8f9ee39-826e-4e7f-b7ca-e86e09ac2424",
     "showTitle": false,
     "tableResultSettingsMap": {},
     "title": ""
    }
   },
   "outputs": [],
   "source": [
    "salespersonregion_schema = \"\"\"\n",
    "EmployeeKey INT,\n",
    "SalesTerritoryKey INT\n",
    "\"\"\""
   ]
  },
  {
   "cell_type": "code",
   "execution_count": 0,
   "metadata": {
    "application/vnd.databricks.v1+cell": {
     "cellMetadata": {
      "byteLimit": 2048000,
      "rowLimit": 10000
     },
     "inputWidgets": {},
     "nuid": "dffdc1c7-9180-4cd5-8895-9945a299a430",
     "showTitle": false,
     "tableResultSettingsMap": {},
     "title": ""
    }
   },
   "outputs": [],
   "source": [
    "df_salespersonregion = spark.read.format(\"csv\")\\\n",
    "                        .option(\"header\", \"true\")\\\n",
    "                        .schema(salespersonregion_schema)\\\n",
    "                        .option(\"delimiter\", \"\\t\")\\\n",
    "                        .load(\"abfss://bronze@adventureworksdls001.dfs.core.windows.net/SalespersonRegion.csv\")"
   ]
  },
  {
   "cell_type": "code",
   "execution_count": 0,
   "metadata": {
    "application/vnd.databricks.v1+cell": {
     "cellMetadata": {
      "byteLimit": 2048000,
      "rowLimit": 10000
     },
     "inputWidgets": {},
     "nuid": "31535cc5-7ba0-4a09-afaa-f1057b0984e3",
     "showTitle": false,
     "tableResultSettingsMap": {},
     "title": ""
    }
   },
   "outputs": [],
   "source": [
    "df_salespersonregion = df_salespersonregion.withColumnRenamed(\"EmployeeKey\", \"employee_key\")\\\n",
    "                    .withColumnRenamed(\"SalesTerritoryKey\", \"sales_territory_key\")"
   ]
  },
  {
   "cell_type": "markdown",
   "metadata": {
    "application/vnd.databricks.v1+cell": {
     "cellMetadata": {
      "byteLimit": 2048000,
      "rowLimit": 10000
     },
     "inputWidgets": {},
     "nuid": "2282b4ba-6be9-4ece-822c-5c0baa7b6d01",
     "showTitle": false,
     "tableResultSettingsMap": {},
     "title": ""
    }
   },
   "source": [
    "### Reading Targets.csv"
   ]
  },
  {
   "cell_type": "code",
   "execution_count": 0,
   "metadata": {
    "application/vnd.databricks.v1+cell": {
     "cellMetadata": {
      "byteLimit": 2048000,
      "rowLimit": 10000
     },
     "inputWidgets": {},
     "nuid": "5856be0f-efe1-48a0-a70a-9a722e5baf1c",
     "showTitle": false,
     "tableResultSettingsMap": {},
     "title": ""
    }
   },
   "outputs": [],
   "source": [
    "\n",
    "df_targets = spark.read.format(\"csv\")\\\n",
    "                        .option(\"header\", \"true\")\\\n",
    "                        .option(\"inferSchema\", \"true\")\\\n",
    "                        .option(\"delimiter\", \"\\t\")\\\n",
    "                        .load(\"abfss://bronze@adventureworksdls001.dfs.core.windows.net/Targets.csv\")"
   ]
  },
  {
   "cell_type": "code",
   "execution_count": 0,
   "metadata": {
    "application/vnd.databricks.v1+cell": {
     "cellMetadata": {
      "byteLimit": 2048000,
      "rowLimit": 10000
     },
     "inputWidgets": {},
     "nuid": "28399283-525f-401f-ae99-78c0ea8b1934",
     "showTitle": false,
     "tableResultSettingsMap": {},
     "title": ""
    }
   },
   "outputs": [],
   "source": [
    "df_targets = df_targets.withColumnRenamed(\"EmployeeID\", \"employee_id\")\\\n",
    "                        .withColumnRenamed(\"TargetMonth\", \"target_month\")\\\n",
    "                        .withColumnRenamed(\"Target\", \"target\")"
   ]
  },
  {
   "cell_type": "markdown",
   "metadata": {
    "application/vnd.databricks.v1+cell": {
     "cellMetadata": {
      "byteLimit": 2048000,
      "rowLimit": 10000
     },
     "inputWidgets": {},
     "nuid": "f91c1c84-ce1b-4e6d-a5dd-033dce136ace",
     "showTitle": false,
     "tableResultSettingsMap": {},
     "title": ""
    }
   },
   "source": [
    "### Writing all the files to Bronze Layer"
   ]
  },
  {
   "cell_type": "code",
   "execution_count": 0,
   "metadata": {
    "application/vnd.databricks.v1+cell": {
     "cellMetadata": {
      "byteLimit": 2048000,
      "rowLimit": 10000
     },
     "inputWidgets": {},
     "nuid": "f9d2f373-dfe8-4836-9f37-0230a41839ed",
     "showTitle": false,
     "tableResultSettingsMap": {},
     "title": ""
    }
   },
   "outputs": [],
   "source": [
    "def write_to_bronze_tables(df,table_name):\n",
    "    df.write.format('delta')\\\n",
    "            .mode('overwrite')\\\n",
    "            .option('overwriteSchema','true')\\\n",
    "            .saveAsTable(f\"adventureworks.bronze.{table_name}\")"
   ]
  },
  {
   "cell_type": "code",
   "execution_count": 0,
   "metadata": {
    "application/vnd.databricks.v1+cell": {
     "cellMetadata": {
      "byteLimit": 2048000,
      "rowLimit": 10000
     },
     "inputWidgets": {},
     "nuid": "47cd9a30-9a6f-494f-956e-edbc58a70889",
     "showTitle": false,
     "tableResultSettingsMap": {},
     "title": ""
    }
   },
   "outputs": [],
   "source": [
    "write_to_bronze_tables(df_product,'bronze_product')\n",
    "write_to_bronze_tables(df_region,'bronze_region')\n",
    "write_to_bronze_tables(df_reseller,'bronze_reseller')\n",
    "write_to_bronze_tables(df_sales,'bronze_sales')\n",
    "write_to_bronze_tables(df_salesperson,'bronze_salesperson')\n",
    "write_to_bronze_tables(df_salespersonregion,'bronze_salespersonregion')\n",
    "write_to_bronze_tables(df_targets,'bronze_targets')"
   ]
  }
 ],
 "metadata": {
  "application/vnd.databricks.v1+notebook": {
   "computePreferences": null,
   "dashboards": [],
   "environmentMetadata": {
    "base_environment": "",
    "environment_version": "4"
   },
   "inputWidgetPreferences": null,
   "language": "python",
   "notebookMetadata": {
    "mostRecentlyExecutedCommandWithImplicitDF": {
     "commandId": 4725452652544147,
     "dataframes": [
      "_sqldf"
     ]
    },
    "pythonIndentUnit": 4
   },
   "notebookName": "1. Data Ingestion in Bronze Layer",
   "widgets": {}
  },
  "language_info": {
   "name": "python"
  }
 },
 "nbformat": 4,
 "nbformat_minor": 0
}